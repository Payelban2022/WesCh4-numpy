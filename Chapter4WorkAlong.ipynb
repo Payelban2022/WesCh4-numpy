{
 "cells": [
  {
   "cell_type": "code",
   "execution_count": 1,
   "metadata": {},
   "outputs": [],
   "source": [
    "import numpy as np"
   ]
  },
  {
   "cell_type": "markdown",
   "metadata": {},
   "source": [
    "# 4 NumPy Basics: Arrays and Vectorized Computation"
   ]
  },
  {
   "cell_type": "code",
   "execution_count": 1,
   "metadata": {},
   "outputs": [
    {
     "ename": "NameError",
     "evalue": "name 'np' is not defined",
     "output_type": "error",
     "traceback": [
      "\u001b[0;31m---------------------------------------------------------------------------\u001b[0m",
      "\u001b[0;31mNameError\u001b[0m                                 Traceback (most recent call last)",
      "Input \u001b[0;32mIn [1]\u001b[0m, in \u001b[0;36m<cell line: 1>\u001b[0;34m()\u001b[0m\n\u001b[0;32m----> 1\u001b[0m data \u001b[38;5;241m=\u001b[39m \u001b[43mnp\u001b[49m\u001b[38;5;241m.\u001b[39mrandom\u001b[38;5;241m.\u001b[39mrandn(\u001b[38;5;241m2\u001b[39m,\u001b[38;5;241m3\u001b[39m)\n",
      "\u001b[0;31mNameError\u001b[0m: name 'np' is not defined"
     ]
    }
   ],
   "source": [
    "data = np.random.randn(2,3)"
   ]
  },
  {
   "cell_type": "code",
   "execution_count": 2,
   "metadata": {},
   "outputs": [],
   "source": [
    "import numpy as np"
   ]
  },
  {
   "cell_type": "code",
   "execution_count": 3,
   "metadata": {},
   "outputs": [],
   "source": [
    "data = np.random.randn(2,3)"
   ]
  },
  {
   "cell_type": "code",
   "execution_count": 4,
   "metadata": {},
   "outputs": [
    {
     "data": {
      "text/plain": [
       "array([[ 0.75050347, -0.7807003 , -1.13731644],\n",
       "       [-0.0172082 ,  0.06782531,  0.03277906]])"
      ]
     },
     "execution_count": 4,
     "metadata": {},
     "output_type": "execute_result"
    }
   ],
   "source": [
    "data"
   ]
  },
  {
   "cell_type": "code",
   "execution_count": 5,
   "metadata": {},
   "outputs": [
    {
     "data": {
      "text/plain": [
       "array([[  7.50503466,  -7.80700302, -11.37316444],\n",
       "       [ -0.17208198,   0.67825312,   0.3277906 ]])"
      ]
     },
     "execution_count": 5,
     "metadata": {},
     "output_type": "execute_result"
    }
   ],
   "source": [
    "data * 10"
   ]
  },
  {
   "cell_type": "code",
   "execution_count": 6,
   "metadata": {},
   "outputs": [
    {
     "data": {
      "text/plain": [
       "array([[ 1.50100693, -1.5614006 , -2.27463289],\n",
       "       [-0.0344164 ,  0.13565062,  0.06555812]])"
      ]
     },
     "execution_count": 6,
     "metadata": {},
     "output_type": "execute_result"
    }
   ],
   "source": [
    "data + data"
   ]
  },
  {
   "cell_type": "code",
   "execution_count": 7,
   "metadata": {},
   "outputs": [
    {
     "data": {
      "text/plain": [
       "(2, 3)"
      ]
     },
     "execution_count": 7,
     "metadata": {},
     "output_type": "execute_result"
    }
   ],
   "source": [
    "data.shape"
   ]
  },
  {
   "cell_type": "code",
   "execution_count": 8,
   "metadata": {},
   "outputs": [
    {
     "data": {
      "text/plain": [
       "dtype('float64')"
      ]
     },
     "execution_count": 8,
     "metadata": {},
     "output_type": "execute_result"
    }
   ],
   "source": [
    "data.dtype"
   ]
  },
  {
   "cell_type": "code",
   "execution_count": 9,
   "metadata": {},
   "outputs": [],
   "source": [
    "data1 = [6,7.5,8,0,1]"
   ]
  },
  {
   "cell_type": "code",
   "execution_count": 10,
   "metadata": {},
   "outputs": [],
   "source": [
    "arr1 = np.array(data1)"
   ]
  },
  {
   "cell_type": "code",
   "execution_count": 11,
   "metadata": {},
   "outputs": [
    {
     "data": {
      "text/plain": [
       "array([6. , 7.5, 8. , 0. , 1. ])"
      ]
     },
     "execution_count": 11,
     "metadata": {},
     "output_type": "execute_result"
    }
   ],
   "source": [
    "arr1"
   ]
  },
  {
   "cell_type": "code",
   "execution_count": 12,
   "metadata": {},
   "outputs": [],
   "source": [
    "data2= [[1,2,3,4],[5,6,7,8]]"
   ]
  },
  {
   "cell_type": "code",
   "execution_count": 13,
   "metadata": {},
   "outputs": [],
   "source": [
    "arr2 = np.array(data2)"
   ]
  },
  {
   "cell_type": "code",
   "execution_count": 14,
   "metadata": {},
   "outputs": [
    {
     "data": {
      "text/plain": [
       "array([[1, 2, 3, 4],\n",
       "       [5, 6, 7, 8]])"
      ]
     },
     "execution_count": 14,
     "metadata": {},
     "output_type": "execute_result"
    }
   ],
   "source": [
    "arr2"
   ]
  },
  {
   "cell_type": "code",
   "execution_count": 15,
   "metadata": {},
   "outputs": [
    {
     "data": {
      "text/plain": [
       "2"
      ]
     },
     "execution_count": 15,
     "metadata": {},
     "output_type": "execute_result"
    }
   ],
   "source": [
    "arr2.ndim"
   ]
  },
  {
   "cell_type": "code",
   "execution_count": 16,
   "metadata": {},
   "outputs": [
    {
     "data": {
      "text/plain": [
       "(2, 4)"
      ]
     },
     "execution_count": 16,
     "metadata": {},
     "output_type": "execute_result"
    }
   ],
   "source": [
    "arr2.shape"
   ]
  },
  {
   "cell_type": "code",
   "execution_count": 17,
   "metadata": {},
   "outputs": [
    {
     "data": {
      "text/plain": [
       "dtype('float64')"
      ]
     },
     "execution_count": 17,
     "metadata": {},
     "output_type": "execute_result"
    }
   ],
   "source": [
    "arr1.dtype"
   ]
  },
  {
   "cell_type": "code",
   "execution_count": 18,
   "metadata": {},
   "outputs": [
    {
     "data": {
      "text/plain": [
       "dtype('int64')"
      ]
     },
     "execution_count": 18,
     "metadata": {},
     "output_type": "execute_result"
    }
   ],
   "source": [
    "arr2.dtype"
   ]
  },
  {
   "cell_type": "code",
   "execution_count": 19,
   "metadata": {},
   "outputs": [
    {
     "data": {
      "text/plain": [
       "array([0., 0., 0., 0., 0., 0., 0., 0., 0., 0.])"
      ]
     },
     "execution_count": 19,
     "metadata": {},
     "output_type": "execute_result"
    }
   ],
   "source": [
    "np.zeros(10)"
   ]
  },
  {
   "cell_type": "code",
   "execution_count": 20,
   "metadata": {},
   "outputs": [
    {
     "data": {
      "text/plain": [
       "array([[0., 0., 0., 0., 0., 0.],\n",
       "       [0., 0., 0., 0., 0., 0.],\n",
       "       [0., 0., 0., 0., 0., 0.]])"
      ]
     },
     "execution_count": 20,
     "metadata": {},
     "output_type": "execute_result"
    }
   ],
   "source": [
    "np.zeros((3,6))"
   ]
  },
  {
   "cell_type": "code",
   "execution_count": 21,
   "metadata": {},
   "outputs": [
    {
     "data": {
      "text/plain": [
       "array([[[0.00000000e+000, 1.53160350e-322],\n",
       "        [0.00000000e+000, 0.00000000e+000],\n",
       "        [0.00000000e+000, 1.16095484e-028]],\n",
       "\n",
       "       [[1.14568603e+243, 4.25117084e-096],\n",
       "        [9.80058441e+252, 1.23971686e+224],\n",
       "        [1.33908210e+253, 1.46030983e-319]]])"
      ]
     },
     "execution_count": 21,
     "metadata": {},
     "output_type": "execute_result"
    }
   ],
   "source": [
    "np.empty((2,3,2))"
   ]
  },
  {
   "cell_type": "code",
   "execution_count": 22,
   "metadata": {},
   "outputs": [
    {
     "data": {
      "text/plain": [
       "array([[[0., 0.],\n",
       "        [0., 0.],\n",
       "        [0., 0.]],\n",
       "\n",
       "       [[0., 0.],\n",
       "        [0., 0.],\n",
       "        [0., 0.]]])"
      ]
     },
     "execution_count": 22,
     "metadata": {},
     "output_type": "execute_result"
    }
   ],
   "source": [
    "np.zeros((2,3,2))"
   ]
  },
  {
   "cell_type": "code",
   "execution_count": 24,
   "metadata": {},
   "outputs": [
    {
     "data": {
      "text/plain": [
       "array([ 0,  1,  2,  3,  4,  5,  6,  7,  8,  9, 10, 11, 12, 13, 14])"
      ]
     },
     "execution_count": 24,
     "metadata": {},
     "output_type": "execute_result"
    }
   ],
   "source": [
    "np.arange(15)"
   ]
  },
  {
   "cell_type": "code",
   "execution_count": 25,
   "metadata": {},
   "outputs": [
    {
     "data": {
      "text/plain": [
       "array([4613937818241073152, 4611686018427387904, 4607182418800017408])"
      ]
     },
     "execution_count": 25,
     "metadata": {},
     "output_type": "execute_result"
    }
   ],
   "source": [
    "np.empty_like((2,3,2))"
   ]
  },
  {
   "cell_type": "code",
   "execution_count": 26,
   "metadata": {},
   "outputs": [],
   "source": [
    "arr1 = np.array([1,2,3],dtype=np.float64)"
   ]
  },
  {
   "cell_type": "code",
   "execution_count": 27,
   "metadata": {},
   "outputs": [
    {
     "data": {
      "text/plain": [
       "array([1., 2., 3.])"
      ]
     },
     "execution_count": 27,
     "metadata": {},
     "output_type": "execute_result"
    }
   ],
   "source": [
    "arr1"
   ]
  },
  {
   "cell_type": "code",
   "execution_count": 28,
   "metadata": {},
   "outputs": [],
   "source": [
    "arr2 = np.array([1,2,3],dtype=np.int32)"
   ]
  },
  {
   "cell_type": "code",
   "execution_count": 29,
   "metadata": {},
   "outputs": [
    {
     "data": {
      "text/plain": [
       "array([1, 2, 3], dtype=int32)"
      ]
     },
     "execution_count": 29,
     "metadata": {},
     "output_type": "execute_result"
    }
   ],
   "source": [
    "arr2"
   ]
  },
  {
   "cell_type": "code",
   "execution_count": 30,
   "metadata": {},
   "outputs": [
    {
     "data": {
      "text/plain": [
       "dtype('float64')"
      ]
     },
     "execution_count": 30,
     "metadata": {},
     "output_type": "execute_result"
    }
   ],
   "source": [
    "arr1.dtype"
   ]
  },
  {
   "cell_type": "code",
   "execution_count": 31,
   "metadata": {},
   "outputs": [
    {
     "data": {
      "text/plain": [
       "dtype('int32')"
      ]
     },
     "execution_count": 31,
     "metadata": {},
     "output_type": "execute_result"
    }
   ],
   "source": [
    "arr2.dtype"
   ]
  },
  {
   "cell_type": "code",
   "execution_count": 32,
   "metadata": {},
   "outputs": [],
   "source": [
    "arr = np.array([1,2,3,4,5])"
   ]
  },
  {
   "cell_type": "code",
   "execution_count": 33,
   "metadata": {},
   "outputs": [
    {
     "data": {
      "text/plain": [
       "dtype('int64')"
      ]
     },
     "execution_count": 33,
     "metadata": {},
     "output_type": "execute_result"
    }
   ],
   "source": [
    "arr.dtype"
   ]
  },
  {
   "cell_type": "code",
   "execution_count": 34,
   "metadata": {},
   "outputs": [],
   "source": [
    "float_arr = arr.astype(np.float64)"
   ]
  },
  {
   "cell_type": "code",
   "execution_count": 35,
   "metadata": {},
   "outputs": [
    {
     "data": {
      "text/plain": [
       "dtype('float64')"
      ]
     },
     "execution_count": 35,
     "metadata": {},
     "output_type": "execute_result"
    }
   ],
   "source": [
    "float_arr.dtype"
   ]
  },
  {
   "cell_type": "code",
   "execution_count": 36,
   "metadata": {},
   "outputs": [
    {
     "data": {
      "text/plain": [
       "array([1., 2., 3., 4., 5.])"
      ]
     },
     "execution_count": 36,
     "metadata": {},
     "output_type": "execute_result"
    }
   ],
   "source": [
    "float_arr"
   ]
  },
  {
   "cell_type": "code",
   "execution_count": 37,
   "metadata": {},
   "outputs": [],
   "source": [
    "arr = np.array([3.7,-1.2,-2.6,0.5,12.9,10.1\n",
    "               ])"
   ]
  },
  {
   "cell_type": "code",
   "execution_count": 38,
   "metadata": {},
   "outputs": [
    {
     "data": {
      "text/plain": [
       "array([ 3.7, -1.2, -2.6,  0.5, 12.9, 10.1])"
      ]
     },
     "execution_count": 38,
     "metadata": {},
     "output_type": "execute_result"
    }
   ],
   "source": [
    "arr"
   ]
  },
  {
   "cell_type": "code",
   "execution_count": 39,
   "metadata": {},
   "outputs": [
    {
     "data": {
      "text/plain": [
       "array([ 3, -1, -2,  0, 12, 10], dtype=int32)"
      ]
     },
     "execution_count": 39,
     "metadata": {},
     "output_type": "execute_result"
    }
   ],
   "source": [
    "arr.astype(np.int32)"
   ]
  },
  {
   "cell_type": "code",
   "execution_count": 41,
   "metadata": {},
   "outputs": [],
   "source": [
    "numeric_strings = np.array(['1.25','-9.6','42'], dtype=np.string_)"
   ]
  },
  {
   "cell_type": "code",
   "execution_count": 42,
   "metadata": {},
   "outputs": [
    {
     "data": {
      "text/plain": [
       "array([b'1.25', b'-9.6', b'42'], dtype='|S4')"
      ]
     },
     "execution_count": 42,
     "metadata": {},
     "output_type": "execute_result"
    }
   ],
   "source": [
    "numeric_strings"
   ]
  },
  {
   "cell_type": "code",
   "execution_count": 47,
   "metadata": {},
   "outputs": [
    {
     "data": {
      "text/plain": [
       "array([ 1.25, -9.6 , 42.  ])"
      ]
     },
     "execution_count": 47,
     "metadata": {},
     "output_type": "execute_result"
    }
   ],
   "source": [
    "flo = numeric_strings.astype(float)\n",
    "flo"
   ]
  },
  {
   "cell_type": "code",
   "execution_count": null,
   "metadata": {},
   "outputs": [],
   "source": []
  },
  {
   "cell_type": "code",
   "execution_count": 45,
   "metadata": {},
   "outputs": [
    {
     "ename": "ValueError",
     "evalue": "invalid literal for int() with base 10: b'1.25'",
     "output_type": "error",
     "traceback": [
      "\u001b[0;31m---------------------------------------------------------------------------\u001b[0m",
      "\u001b[0;31mValueError\u001b[0m                                Traceback (most recent call last)",
      "Input \u001b[0;32mIn [45]\u001b[0m, in \u001b[0;36m<cell line: 1>\u001b[0;34m()\u001b[0m\n\u001b[0;32m----> 1\u001b[0m \u001b[43mnumeric_strings\u001b[49m\u001b[38;5;241;43m.\u001b[39;49m\u001b[43mastype\u001b[49m\u001b[43m(\u001b[49m\u001b[43mnp\u001b[49m\u001b[38;5;241;43m.\u001b[39;49m\u001b[43mint32\u001b[49m\u001b[43m)\u001b[49m\n",
      "\u001b[0;31mValueError\u001b[0m: invalid literal for int() with base 10: b'1.25'"
     ]
    }
   ],
   "source": [
    "numeric_strings.astype(np.int32)"
   ]
  },
  {
   "cell_type": "code",
   "execution_count": 46,
   "metadata": {},
   "outputs": [
    {
     "data": {
      "text/plain": [
       "array([b'1.25', b'-9.6', b'42'], dtype='|S4')"
      ]
     },
     "execution_count": 46,
     "metadata": {},
     "output_type": "execute_result"
    }
   ],
   "source": [
    "numeric_strings"
   ]
  },
  {
   "cell_type": "code",
   "execution_count": 48,
   "metadata": {},
   "outputs": [
    {
     "data": {
      "text/plain": [
       "array([ 1, -9, 42])"
      ]
     },
     "execution_count": 48,
     "metadata": {},
     "output_type": "execute_result"
    }
   ],
   "source": [
    "flo.astype(int)"
   ]
  },
  {
   "cell_type": "code",
   "execution_count": 49,
   "metadata": {},
   "outputs": [],
   "source": [
    "int_array = np.arange(10)"
   ]
  },
  {
   "cell_type": "code",
   "execution_count": 50,
   "metadata": {},
   "outputs": [
    {
     "data": {
      "text/plain": [
       "array([0, 1, 2, 3, 4, 5, 6, 7, 8, 9])"
      ]
     },
     "execution_count": 50,
     "metadata": {},
     "output_type": "execute_result"
    }
   ],
   "source": [
    "int_array"
   ]
  },
  {
   "cell_type": "code",
   "execution_count": 51,
   "metadata": {},
   "outputs": [
    {
     "data": {
      "text/plain": [
       "dtype('int64')"
      ]
     },
     "execution_count": 51,
     "metadata": {},
     "output_type": "execute_result"
    }
   ],
   "source": [
    "int_array.dtype"
   ]
  },
  {
   "cell_type": "code",
   "execution_count": 52,
   "metadata": {},
   "outputs": [],
   "source": [
    "calibers = np.array([.22,.270,.357,.380,.44,.50], dtype=np.float64)"
   ]
  },
  {
   "cell_type": "code",
   "execution_count": 53,
   "metadata": {},
   "outputs": [
    {
     "data": {
      "text/plain": [
       "array([0.22 , 0.27 , 0.357, 0.38 , 0.44 , 0.5  ])"
      ]
     },
     "execution_count": 53,
     "metadata": {},
     "output_type": "execute_result"
    }
   ],
   "source": [
    "calibers"
   ]
  },
  {
   "cell_type": "code",
   "execution_count": 54,
   "metadata": {},
   "outputs": [
    {
     "data": {
      "text/plain": [
       "array([0., 1., 2., 3., 4., 5., 6., 7., 8., 9.])"
      ]
     },
     "execution_count": 54,
     "metadata": {},
     "output_type": "execute_result"
    }
   ],
   "source": [
    "int_array.astype(calibers.dtype)"
   ]
  },
  {
   "cell_type": "code",
   "execution_count": 57,
   "metadata": {},
   "outputs": [],
   "source": [
    "arr = np.array([[1.,2.,3.],[4.,5.,6.]])"
   ]
  },
  {
   "cell_type": "code",
   "execution_count": 58,
   "metadata": {},
   "outputs": [
    {
     "data": {
      "text/plain": [
       "array([[1., 2., 3.],\n",
       "       [4., 5., 6.]])"
      ]
     },
     "execution_count": 58,
     "metadata": {},
     "output_type": "execute_result"
    }
   ],
   "source": [
    "arr"
   ]
  },
  {
   "cell_type": "code",
   "execution_count": 59,
   "metadata": {},
   "outputs": [
    {
     "data": {
      "text/plain": [
       "array([[ 1.,  4.,  9.],\n",
       "       [16., 25., 36.]])"
      ]
     },
     "execution_count": 59,
     "metadata": {},
     "output_type": "execute_result"
    }
   ],
   "source": [
    "arr * arr"
   ]
  },
  {
   "cell_type": "code",
   "execution_count": 60,
   "metadata": {},
   "outputs": [
    {
     "data": {
      "text/plain": [
       "array([[0., 0., 0.],\n",
       "       [0., 0., 0.]])"
      ]
     },
     "execution_count": 60,
     "metadata": {},
     "output_type": "execute_result"
    }
   ],
   "source": [
    "arr - arr"
   ]
  },
  {
   "cell_type": "code",
   "execution_count": 61,
   "metadata": {},
   "outputs": [
    {
     "data": {
      "text/plain": [
       "array([[1.        , 0.5       , 0.33333333],\n",
       "       [0.25      , 0.2       , 0.16666667]])"
      ]
     },
     "execution_count": 61,
     "metadata": {},
     "output_type": "execute_result"
    }
   ],
   "source": [
    "1/arr"
   ]
  },
  {
   "cell_type": "code",
   "execution_count": 62,
   "metadata": {},
   "outputs": [
    {
     "data": {
      "text/plain": [
       "array([[0.5, 1. , 1.5],\n",
       "       [2. , 2.5, 3. ]])"
      ]
     },
     "execution_count": 62,
     "metadata": {},
     "output_type": "execute_result"
    }
   ],
   "source": [
    "arr * 0.5"
   ]
  },
  {
   "cell_type": "code",
   "execution_count": 63,
   "metadata": {},
   "outputs": [
    {
     "data": {
      "text/plain": [
       "array([[1.        , 1.41421356, 1.73205081],\n",
       "       [2.        , 2.23606798, 2.44948974]])"
      ]
     },
     "execution_count": 63,
     "metadata": {},
     "output_type": "execute_result"
    }
   ],
   "source": [
    "arr ** 0.5"
   ]
  },
  {
   "cell_type": "code",
   "execution_count": 64,
   "metadata": {},
   "outputs": [],
   "source": [
    "arr2 = np.array([[0.,4.,1.],[7.,2.,12.]])"
   ]
  },
  {
   "cell_type": "code",
   "execution_count": 65,
   "metadata": {},
   "outputs": [
    {
     "data": {
      "text/plain": [
       "array([[ 0.,  4.,  1.],\n",
       "       [ 7.,  2., 12.]])"
      ]
     },
     "execution_count": 65,
     "metadata": {},
     "output_type": "execute_result"
    }
   ],
   "source": [
    "arr2"
   ]
  },
  {
   "cell_type": "code",
   "execution_count": 66,
   "metadata": {},
   "outputs": [
    {
     "data": {
      "text/plain": [
       "array([[False,  True, False],\n",
       "       [ True, False,  True]])"
      ]
     },
     "execution_count": 66,
     "metadata": {},
     "output_type": "execute_result"
    }
   ],
   "source": [
    "arr2 > arr"
   ]
  },
  {
   "cell_type": "code",
   "execution_count": 67,
   "metadata": {},
   "outputs": [],
   "source": [
    "arr = np.arange(10)"
   ]
  },
  {
   "cell_type": "code",
   "execution_count": 68,
   "metadata": {},
   "outputs": [
    {
     "data": {
      "text/plain": [
       "array([0, 1, 2, 3, 4, 5, 6, 7, 8, 9])"
      ]
     },
     "execution_count": 68,
     "metadata": {},
     "output_type": "execute_result"
    }
   ],
   "source": [
    "arr"
   ]
  },
  {
   "cell_type": "code",
   "execution_count": 69,
   "metadata": {},
   "outputs": [
    {
     "data": {
      "text/plain": [
       "5"
      ]
     },
     "execution_count": 69,
     "metadata": {},
     "output_type": "execute_result"
    }
   ],
   "source": [
    "arr[5]"
   ]
  },
  {
   "cell_type": "code",
   "execution_count": 70,
   "metadata": {},
   "outputs": [
    {
     "data": {
      "text/plain": [
       "array([5, 6, 7])"
      ]
     },
     "execution_count": 70,
     "metadata": {},
     "output_type": "execute_result"
    }
   ],
   "source": [
    "arr[5:8]"
   ]
  },
  {
   "cell_type": "code",
   "execution_count": 71,
   "metadata": {},
   "outputs": [],
   "source": [
    "arr[5:8] = 12"
   ]
  },
  {
   "cell_type": "code",
   "execution_count": 72,
   "metadata": {},
   "outputs": [
    {
     "data": {
      "text/plain": [
       "array([ 0,  1,  2,  3,  4, 12, 12, 12,  8,  9])"
      ]
     },
     "execution_count": 72,
     "metadata": {},
     "output_type": "execute_result"
    }
   ],
   "source": [
    "arr"
   ]
  },
  {
   "cell_type": "code",
   "execution_count": 73,
   "metadata": {},
   "outputs": [],
   "source": [
    "arr_slice = arr[5:8]"
   ]
  },
  {
   "cell_type": "code",
   "execution_count": 74,
   "metadata": {},
   "outputs": [
    {
     "data": {
      "text/plain": [
       "array([12, 12, 12])"
      ]
     },
     "execution_count": 74,
     "metadata": {},
     "output_type": "execute_result"
    }
   ],
   "source": [
    "arr_slice"
   ]
  },
  {
   "cell_type": "code",
   "execution_count": 75,
   "metadata": {},
   "outputs": [],
   "source": [
    "arr_slice[1] = 12345"
   ]
  },
  {
   "cell_type": "code",
   "execution_count": 76,
   "metadata": {},
   "outputs": [
    {
     "data": {
      "text/plain": [
       "array([    0,     1,     2,     3,     4,    12, 12345,    12,     8,\n",
       "           9])"
      ]
     },
     "execution_count": 76,
     "metadata": {},
     "output_type": "execute_result"
    }
   ],
   "source": [
    "arr"
   ]
  },
  {
   "cell_type": "code",
   "execution_count": 77,
   "metadata": {},
   "outputs": [],
   "source": [
    "arr_slice[:] = 64"
   ]
  },
  {
   "cell_type": "code",
   "execution_count": 78,
   "metadata": {},
   "outputs": [
    {
     "data": {
      "text/plain": [
       "array([ 0,  1,  2,  3,  4, 64, 64, 64,  8,  9])"
      ]
     },
     "execution_count": 78,
     "metadata": {},
     "output_type": "execute_result"
    }
   ],
   "source": [
    "arr"
   ]
  },
  {
   "cell_type": "code",
   "execution_count": 79,
   "metadata": {},
   "outputs": [],
   "source": [
    "arr2d = np.array([[1,2,3],[4,5,6],[7,8,9]])"
   ]
  },
  {
   "cell_type": "code",
   "execution_count": 80,
   "metadata": {},
   "outputs": [
    {
     "data": {
      "text/plain": [
       "array([7, 8, 9])"
      ]
     },
     "execution_count": 80,
     "metadata": {},
     "output_type": "execute_result"
    }
   ],
   "source": [
    "arr2d[2]"
   ]
  },
  {
   "cell_type": "code",
   "execution_count": 81,
   "metadata": {},
   "outputs": [
    {
     "data": {
      "text/plain": [
       "3"
      ]
     },
     "execution_count": 81,
     "metadata": {},
     "output_type": "execute_result"
    }
   ],
   "source": [
    "arr2d[0,2]"
   ]
  },
  {
   "cell_type": "code",
   "execution_count": 82,
   "metadata": {},
   "outputs": [],
   "source": [
    "arr3d = np.array([[[1,2,3],[4,5,6]],[[7,8,9],[10,11,12]]])"
   ]
  },
  {
   "cell_type": "code",
   "execution_count": 83,
   "metadata": {},
   "outputs": [
    {
     "data": {
      "text/plain": [
       "array([[[ 1,  2,  3],\n",
       "        [ 4,  5,  6]],\n",
       "\n",
       "       [[ 7,  8,  9],\n",
       "        [10, 11, 12]]])"
      ]
     },
     "execution_count": 83,
     "metadata": {},
     "output_type": "execute_result"
    }
   ],
   "source": [
    "arr3d"
   ]
  },
  {
   "cell_type": "code",
   "execution_count": 84,
   "metadata": {},
   "outputs": [
    {
     "data": {
      "text/plain": [
       "array([[1, 2, 3],\n",
       "       [4, 5, 6]])"
      ]
     },
     "execution_count": 84,
     "metadata": {},
     "output_type": "execute_result"
    }
   ],
   "source": [
    "arr3d[0]"
   ]
  },
  {
   "cell_type": "code",
   "execution_count": 85,
   "metadata": {},
   "outputs": [],
   "source": [
    "old_values = arr3d[0].copy()"
   ]
  },
  {
   "cell_type": "code",
   "execution_count": 86,
   "metadata": {},
   "outputs": [
    {
     "data": {
      "text/plain": [
       "array([[1, 2, 3],\n",
       "       [4, 5, 6]])"
      ]
     },
     "execution_count": 86,
     "metadata": {},
     "output_type": "execute_result"
    }
   ],
   "source": [
    "old_values"
   ]
  },
  {
   "cell_type": "code",
   "execution_count": 87,
   "metadata": {},
   "outputs": [],
   "source": [
    "arr3d[0] = 42"
   ]
  },
  {
   "cell_type": "code",
   "execution_count": 88,
   "metadata": {},
   "outputs": [
    {
     "data": {
      "text/plain": [
       "array([[[42, 42, 42],\n",
       "        [42, 42, 42]],\n",
       "\n",
       "       [[ 7,  8,  9],\n",
       "        [10, 11, 12]]])"
      ]
     },
     "execution_count": 88,
     "metadata": {},
     "output_type": "execute_result"
    }
   ],
   "source": [
    "arr3d"
   ]
  },
  {
   "cell_type": "code",
   "execution_count": 89,
   "metadata": {},
   "outputs": [],
   "source": [
    "arr3d[0] = old_values"
   ]
  },
  {
   "cell_type": "code",
   "execution_count": 90,
   "metadata": {},
   "outputs": [
    {
     "data": {
      "text/plain": [
       "array([[[ 1,  2,  3],\n",
       "        [ 4,  5,  6]],\n",
       "\n",
       "       [[ 7,  8,  9],\n",
       "        [10, 11, 12]]])"
      ]
     },
     "execution_count": 90,
     "metadata": {},
     "output_type": "execute_result"
    }
   ],
   "source": [
    "arr3d"
   ]
  },
  {
   "cell_type": "code",
   "execution_count": 91,
   "metadata": {},
   "outputs": [
    {
     "data": {
      "text/plain": [
       "array([7, 8, 9])"
      ]
     },
     "execution_count": 91,
     "metadata": {},
     "output_type": "execute_result"
    }
   ],
   "source": [
    "arr3d[1,0]"
   ]
  },
  {
   "cell_type": "code",
   "execution_count": 92,
   "metadata": {},
   "outputs": [],
   "source": [
    "x = arr3d[1]"
   ]
  },
  {
   "cell_type": "code",
   "execution_count": 93,
   "metadata": {},
   "outputs": [
    {
     "data": {
      "text/plain": [
       "array([[ 7,  8,  9],\n",
       "       [10, 11, 12]])"
      ]
     },
     "execution_count": 93,
     "metadata": {},
     "output_type": "execute_result"
    }
   ],
   "source": [
    "x"
   ]
  },
  {
   "cell_type": "code",
   "execution_count": 94,
   "metadata": {},
   "outputs": [
    {
     "data": {
      "text/plain": [
       "array([7, 8, 9])"
      ]
     },
     "execution_count": 94,
     "metadata": {},
     "output_type": "execute_result"
    }
   ],
   "source": [
    "x[0]"
   ]
  },
  {
   "cell_type": "code",
   "execution_count": 95,
   "metadata": {},
   "outputs": [
    {
     "data": {
      "text/plain": [
       "array([ 0,  1,  2,  3,  4, 64, 64, 64,  8,  9])"
      ]
     },
     "execution_count": 95,
     "metadata": {},
     "output_type": "execute_result"
    }
   ],
   "source": [
    "arr"
   ]
  },
  {
   "cell_type": "code",
   "execution_count": 96,
   "metadata": {},
   "outputs": [
    {
     "data": {
      "text/plain": [
       "array([ 1,  2,  3,  4, 64])"
      ]
     },
     "execution_count": 96,
     "metadata": {},
     "output_type": "execute_result"
    }
   ],
   "source": [
    "arr[1:6]"
   ]
  },
  {
   "cell_type": "code",
   "execution_count": 97,
   "metadata": {},
   "outputs": [
    {
     "data": {
      "text/plain": [
       "array([[1, 2, 3],\n",
       "       [4, 5, 6],\n",
       "       [7, 8, 9]])"
      ]
     },
     "execution_count": 97,
     "metadata": {},
     "output_type": "execute_result"
    }
   ],
   "source": [
    "arr2d"
   ]
  },
  {
   "cell_type": "code",
   "execution_count": 98,
   "metadata": {},
   "outputs": [
    {
     "data": {
      "text/plain": [
       "array([[1, 2, 3],\n",
       "       [4, 5, 6]])"
      ]
     },
     "execution_count": 98,
     "metadata": {},
     "output_type": "execute_result"
    }
   ],
   "source": [
    "arr2d[:2]"
   ]
  },
  {
   "cell_type": "code",
   "execution_count": 99,
   "metadata": {},
   "outputs": [
    {
     "data": {
      "text/plain": [
       "array([[2, 3],\n",
       "       [5, 6]])"
      ]
     },
     "execution_count": 99,
     "metadata": {},
     "output_type": "execute_result"
    }
   ],
   "source": [
    "arr2d[:2,1:]"
   ]
  },
  {
   "cell_type": "code",
   "execution_count": 100,
   "metadata": {},
   "outputs": [
    {
     "data": {
      "text/plain": [
       "array([[1, 2, 3],\n",
       "       [4, 5, 6]])"
      ]
     },
     "execution_count": 100,
     "metadata": {},
     "output_type": "execute_result"
    }
   ],
   "source": [
    "arr2d[:2,0:]"
   ]
  },
  {
   "cell_type": "code",
   "execution_count": 101,
   "metadata": {},
   "outputs": [
    {
     "data": {
      "text/plain": [
       "array([4, 5])"
      ]
     },
     "execution_count": 101,
     "metadata": {},
     "output_type": "execute_result"
    }
   ],
   "source": [
    "arr2d[1,:2]"
   ]
  },
  {
   "cell_type": "code",
   "execution_count": 102,
   "metadata": {},
   "outputs": [
    {
     "data": {
      "text/plain": [
       "array([3, 6])"
      ]
     },
     "execution_count": 102,
     "metadata": {},
     "output_type": "execute_result"
    }
   ],
   "source": [
    "arr2d[:2,2]"
   ]
  },
  {
   "cell_type": "code",
   "execution_count": 103,
   "metadata": {},
   "outputs": [
    {
     "data": {
      "text/plain": [
       "array([[1, 2, 3],\n",
       "       [4, 5, 6],\n",
       "       [7, 8, 9]])"
      ]
     },
     "execution_count": 103,
     "metadata": {},
     "output_type": "execute_result"
    }
   ],
   "source": [
    "arr2d[:]"
   ]
  },
  {
   "cell_type": "code",
   "execution_count": 104,
   "metadata": {},
   "outputs": [
    {
     "data": {
      "text/plain": [
       "array([[1],\n",
       "       [4],\n",
       "       [7]])"
      ]
     },
     "execution_count": 104,
     "metadata": {},
     "output_type": "execute_result"
    }
   ],
   "source": [
    "arr2d[:,:1]"
   ]
  },
  {
   "cell_type": "code",
   "execution_count": 105,
   "metadata": {},
   "outputs": [],
   "source": [
    "arr2d[:2,1:] = 0"
   ]
  },
  {
   "cell_type": "code",
   "execution_count": 106,
   "metadata": {},
   "outputs": [
    {
     "data": {
      "text/plain": [
       "array([[1, 0, 0],\n",
       "       [4, 0, 0],\n",
       "       [7, 8, 9]])"
      ]
     },
     "execution_count": 106,
     "metadata": {},
     "output_type": "execute_result"
    }
   ],
   "source": [
    "arr2d"
   ]
  },
  {
   "cell_type": "code",
   "execution_count": 107,
   "metadata": {},
   "outputs": [],
   "source": [
    "names = np.array(['Bob','Joe','Will','Bob','Will','Joe','Joe'])"
   ]
  },
  {
   "cell_type": "code",
   "execution_count": 108,
   "metadata": {},
   "outputs": [
    {
     "data": {
      "text/plain": [
       "array(['Bob', 'Joe', 'Will', 'Bob', 'Will', 'Joe', 'Joe'], dtype='<U4')"
      ]
     },
     "execution_count": 108,
     "metadata": {},
     "output_type": "execute_result"
    }
   ],
   "source": [
    "names"
   ]
  },
  {
   "cell_type": "code",
   "execution_count": 109,
   "metadata": {},
   "outputs": [],
   "source": [
    "data = np.random.randn(7,4)"
   ]
  },
  {
   "cell_type": "code",
   "execution_count": 110,
   "metadata": {},
   "outputs": [
    {
     "data": {
      "text/plain": [
       "array([[ 0.52383688, -0.19264129, -0.67085174,  1.22437979],\n",
       "       [ 1.85211364, -0.18917594, -1.02403042, -0.71194616],\n",
       "       [ 0.47007173,  1.08745251,  0.04559331,  1.53537693],\n",
       "       [ 0.81810971, -2.07179285, -0.7175946 ,  0.20830601],\n",
       "       [-0.73867507,  0.61046872,  0.66894429,  0.07534006],\n",
       "       [-0.64535455,  0.13131288,  0.52283096, -0.14935442],\n",
       "       [-1.31121697, -1.1677055 , -2.37688778,  0.36410063]])"
      ]
     },
     "execution_count": 110,
     "metadata": {},
     "output_type": "execute_result"
    }
   ],
   "source": [
    "data"
   ]
  },
  {
   "cell_type": "code",
   "execution_count": 111,
   "metadata": {},
   "outputs": [
    {
     "data": {
      "text/plain": [
       "array([ True, False, False,  True, False, False, False])"
      ]
     },
     "execution_count": 111,
     "metadata": {},
     "output_type": "execute_result"
    }
   ],
   "source": [
    "names == 'Bob'"
   ]
  },
  {
   "cell_type": "code",
   "execution_count": 112,
   "metadata": {},
   "outputs": [
    {
     "data": {
      "text/plain": [
       "array([[ 0.52383688, -0.19264129, -0.67085174,  1.22437979],\n",
       "       [ 0.81810971, -2.07179285, -0.7175946 ,  0.20830601]])"
      ]
     },
     "execution_count": 112,
     "metadata": {},
     "output_type": "execute_result"
    }
   ],
   "source": [
    "data[names == 'Bob']"
   ]
  },
  {
   "cell_type": "code",
   "execution_count": 113,
   "metadata": {},
   "outputs": [
    {
     "data": {
      "text/plain": [
       "array([[-0.67085174,  1.22437979],\n",
       "       [-0.7175946 ,  0.20830601]])"
      ]
     },
     "execution_count": 113,
     "metadata": {},
     "output_type": "execute_result"
    }
   ],
   "source": [
    "data[names == 'Bob', 2:]"
   ]
  },
  {
   "cell_type": "code",
   "execution_count": 114,
   "metadata": {},
   "outputs": [
    {
     "data": {
      "text/plain": [
       "array([1.22437979, 0.20830601])"
      ]
     },
     "execution_count": 114,
     "metadata": {},
     "output_type": "execute_result"
    }
   ],
   "source": [
    "data[names == 'Bob', 3]"
   ]
  },
  {
   "cell_type": "code",
   "execution_count": 116,
   "metadata": {},
   "outputs": [
    {
     "data": {
      "text/plain": [
       "array([[ 1.85211364, -0.18917594, -1.02403042, -0.71194616],\n",
       "       [ 0.47007173,  1.08745251,  0.04559331,  1.53537693],\n",
       "       [-0.73867507,  0.61046872,  0.66894429,  0.07534006],\n",
       "       [-0.64535455,  0.13131288,  0.52283096, -0.14935442],\n",
       "       [-1.31121697, -1.1677055 , -2.37688778,  0.36410063]])"
      ]
     },
     "execution_count": 116,
     "metadata": {},
     "output_type": "execute_result"
    }
   ],
   "source": [
    "data[names != 'Bob']"
   ]
  },
  {
   "cell_type": "code",
   "execution_count": 118,
   "metadata": {},
   "outputs": [],
   "source": [
    "mask = (names == 'Bob')|(names == 'Will')"
   ]
  },
  {
   "cell_type": "code",
   "execution_count": 119,
   "metadata": {},
   "outputs": [
    {
     "data": {
      "text/plain": [
       "array([ True, False,  True,  True,  True, False, False])"
      ]
     },
     "execution_count": 119,
     "metadata": {},
     "output_type": "execute_result"
    }
   ],
   "source": [
    "mask"
   ]
  },
  {
   "cell_type": "code",
   "execution_count": 120,
   "metadata": {},
   "outputs": [
    {
     "data": {
      "text/plain": [
       "array([[ 0.52383688, -0.19264129, -0.67085174,  1.22437979],\n",
       "       [ 0.47007173,  1.08745251,  0.04559331,  1.53537693],\n",
       "       [ 0.81810971, -2.07179285, -0.7175946 ,  0.20830601],\n",
       "       [-0.73867507,  0.61046872,  0.66894429,  0.07534006]])"
      ]
     },
     "execution_count": 120,
     "metadata": {},
     "output_type": "execute_result"
    }
   ],
   "source": [
    "data[mask]"
   ]
  },
  {
   "cell_type": "code",
   "execution_count": 121,
   "metadata": {},
   "outputs": [],
   "source": [
    "data[data<0] = 0"
   ]
  },
  {
   "cell_type": "code",
   "execution_count": 122,
   "metadata": {},
   "outputs": [
    {
     "data": {
      "text/plain": [
       "array([[0.52383688, 0.        , 0.        , 1.22437979],\n",
       "       [1.85211364, 0.        , 0.        , 0.        ],\n",
       "       [0.47007173, 1.08745251, 0.04559331, 1.53537693],\n",
       "       [0.81810971, 0.        , 0.        , 0.20830601],\n",
       "       [0.        , 0.61046872, 0.66894429, 0.07534006],\n",
       "       [0.        , 0.13131288, 0.52283096, 0.        ],\n",
       "       [0.        , 0.        , 0.        , 0.36410063]])"
      ]
     },
     "execution_count": 122,
     "metadata": {},
     "output_type": "execute_result"
    }
   ],
   "source": [
    "data"
   ]
  },
  {
   "cell_type": "code",
   "execution_count": 123,
   "metadata": {},
   "outputs": [],
   "source": [
    "data[names != 'Joe'] = 7"
   ]
  },
  {
   "cell_type": "code",
   "execution_count": 124,
   "metadata": {},
   "outputs": [
    {
     "data": {
      "text/plain": [
       "array([[7.        , 7.        , 7.        , 7.        ],\n",
       "       [1.85211364, 0.        , 0.        , 0.        ],\n",
       "       [7.        , 7.        , 7.        , 7.        ],\n",
       "       [7.        , 7.        , 7.        , 7.        ],\n",
       "       [7.        , 7.        , 7.        , 7.        ],\n",
       "       [0.        , 0.13131288, 0.52283096, 0.        ],\n",
       "       [0.        , 0.        , 0.        , 0.36410063]])"
      ]
     },
     "execution_count": 124,
     "metadata": {},
     "output_type": "execute_result"
    }
   ],
   "source": [
    "data"
   ]
  },
  {
   "cell_type": "code",
   "execution_count": 125,
   "metadata": {},
   "outputs": [],
   "source": [
    "arr = np.empty((8,4))"
   ]
  },
  {
   "cell_type": "code",
   "execution_count": 126,
   "metadata": {},
   "outputs": [
    {
     "data": {
      "text/plain": [
       "array([[0.00000000e+000, 4.44659081e-323, 0.00000000e+000,\n",
       "        0.00000000e+000],\n",
       "       [0.00000000e+000, 1.16097020e-028, 1.26071127e-076,\n",
       "        3.17976468e-028],\n",
       "       [2.89631091e-057, 1.04917183e-153, 5.23081515e-143,\n",
       "        1.20036024e-071],\n",
       "       [2.82883961e-056, 5.64056896e-062, 5.49255912e+170,\n",
       "        1.70098498e+256],\n",
       "       [5.49109388e-143, 1.06396443e+224, 3.96041428e+246,\n",
       "        1.16318408e-028],\n",
       "       [1.38379594e-047, 3.88813038e-033, 4.85650313e-033,\n",
       "        9.13593743e+169],\n",
       "       [1.01848862e+248, 1.16096643e-028, 9.80058441e+252,\n",
       "        7.50189709e+247],\n",
       "       [1.14484251e+243, 2.59903827e-144, 9.46268823e-053,\n",
       "        6.79770504e-310]])"
      ]
     },
     "execution_count": 126,
     "metadata": {},
     "output_type": "execute_result"
    }
   ],
   "source": [
    "arr"
   ]
  },
  {
   "cell_type": "code",
   "execution_count": 127,
   "metadata": {},
   "outputs": [],
   "source": [
    "for i in range(8):\n",
    "    arr[i] = i"
   ]
  },
  {
   "cell_type": "code",
   "execution_count": 128,
   "metadata": {},
   "outputs": [
    {
     "data": {
      "text/plain": [
       "array([[0., 0., 0., 0.],\n",
       "       [1., 1., 1., 1.],\n",
       "       [2., 2., 2., 2.],\n",
       "       [3., 3., 3., 3.],\n",
       "       [4., 4., 4., 4.],\n",
       "       [5., 5., 5., 5.],\n",
       "       [6., 6., 6., 6.],\n",
       "       [7., 7., 7., 7.]])"
      ]
     },
     "execution_count": 128,
     "metadata": {},
     "output_type": "execute_result"
    }
   ],
   "source": [
    "arr"
   ]
  },
  {
   "cell_type": "code",
   "execution_count": 130,
   "metadata": {},
   "outputs": [
    {
     "data": {
      "text/plain": [
       "array([[4., 4., 4., 4.],\n",
       "       [3., 3., 3., 3.],\n",
       "       [0., 0., 0., 0.],\n",
       "       [6., 6., 6., 6.]])"
      ]
     },
     "execution_count": 130,
     "metadata": {},
     "output_type": "execute_result"
    }
   ],
   "source": [
    "arr[[4,3,0,6]]"
   ]
  },
  {
   "cell_type": "code",
   "execution_count": 131,
   "metadata": {},
   "outputs": [
    {
     "data": {
      "text/plain": [
       "array([[5., 5., 5., 5.],\n",
       "       [3., 3., 3., 3.],\n",
       "       [1., 1., 1., 1.]])"
      ]
     },
     "execution_count": 131,
     "metadata": {},
     "output_type": "execute_result"
    }
   ],
   "source": [
    "arr[[-3,-5,-7]]"
   ]
  },
  {
   "cell_type": "code",
   "execution_count": 133,
   "metadata": {},
   "outputs": [],
   "source": [
    "arr = np.arange(32).reshape((8,4))"
   ]
  },
  {
   "cell_type": "code",
   "execution_count": 134,
   "metadata": {},
   "outputs": [
    {
     "data": {
      "text/plain": [
       "array([[ 0,  1,  2,  3],\n",
       "       [ 4,  5,  6,  7],\n",
       "       [ 8,  9, 10, 11],\n",
       "       [12, 13, 14, 15],\n",
       "       [16, 17, 18, 19],\n",
       "       [20, 21, 22, 23],\n",
       "       [24, 25, 26, 27],\n",
       "       [28, 29, 30, 31]])"
      ]
     },
     "execution_count": 134,
     "metadata": {},
     "output_type": "execute_result"
    }
   ],
   "source": [
    "arr"
   ]
  },
  {
   "cell_type": "code",
   "execution_count": 135,
   "metadata": {},
   "outputs": [
    {
     "data": {
      "text/plain": [
       "array([ 4, 23, 29, 10])"
      ]
     },
     "execution_count": 135,
     "metadata": {},
     "output_type": "execute_result"
    }
   ],
   "source": [
    "arr[[1,5,7,2],[0,3,1,2]]"
   ]
  },
  {
   "cell_type": "code",
   "execution_count": 143,
   "metadata": {},
   "outputs": [
    {
     "data": {
      "text/plain": [
       "array([[ 4,  7,  6,  5],\n",
       "       [20, 23, 22, 21],\n",
       "       [28, 31, 30, 29],\n",
       "       [ 8, 11, 10,  9]])"
      ]
     },
     "execution_count": 143,
     "metadata": {},
     "output_type": "execute_result"
    }
   ],
   "source": [
    "arr[[1,5,7,2]][:,[0,3,2,1]]"
   ]
  },
  {
   "cell_type": "code",
   "execution_count": 144,
   "metadata": {},
   "outputs": [],
   "source": [
    "arr = np.arange(15).reshape((3,5))"
   ]
  },
  {
   "cell_type": "code",
   "execution_count": 145,
   "metadata": {},
   "outputs": [
    {
     "data": {
      "text/plain": [
       "array([[ 0,  1,  2,  3,  4],\n",
       "       [ 5,  6,  7,  8,  9],\n",
       "       [10, 11, 12, 13, 14]])"
      ]
     },
     "execution_count": 145,
     "metadata": {},
     "output_type": "execute_result"
    }
   ],
   "source": [
    "arr"
   ]
  },
  {
   "cell_type": "code",
   "execution_count": 146,
   "metadata": {},
   "outputs": [
    {
     "data": {
      "text/plain": [
       "array([[ 0,  5, 10],\n",
       "       [ 1,  6, 11],\n",
       "       [ 2,  7, 12],\n",
       "       [ 3,  8, 13],\n",
       "       [ 4,  9, 14]])"
      ]
     },
     "execution_count": 146,
     "metadata": {},
     "output_type": "execute_result"
    }
   ],
   "source": [
    "arr.T"
   ]
  },
  {
   "cell_type": "code",
   "execution_count": 147,
   "metadata": {},
   "outputs": [],
   "source": [
    "arr = np.random.randn(6,3)"
   ]
  },
  {
   "cell_type": "code",
   "execution_count": 148,
   "metadata": {},
   "outputs": [
    {
     "data": {
      "text/plain": [
       "array([[ 2.20823106,  0.52391534,  1.7154119 ],\n",
       "       [-0.38099301,  0.6584924 , -2.18655044],\n",
       "       [ 0.31746762,  0.38899648,  0.16432148],\n",
       "       [ 0.37436109,  1.57296461, -0.55203321],\n",
       "       [-0.66029058,  0.41859747,  0.32805004],\n",
       "       [-0.41732236,  0.75295255, -0.55882862]])"
      ]
     },
     "execution_count": 148,
     "metadata": {},
     "output_type": "execute_result"
    }
   ],
   "source": [
    "arr"
   ]
  },
  {
   "cell_type": "code",
   "execution_count": 149,
   "metadata": {},
   "outputs": [
    {
     "data": {
      "text/plain": [
       "array([[ 2.20823106, -0.38099301,  0.31746762,  0.37436109, -0.66029058,\n",
       "        -0.41732236],\n",
       "       [ 0.52391534,  0.6584924 ,  0.38899648,  1.57296461,  0.41859747,\n",
       "         0.75295255],\n",
       "       [ 1.7154119 , -2.18655044,  0.16432148, -0.55203321,  0.32805004,\n",
       "        -0.55882862]])"
      ]
     },
     "execution_count": 149,
     "metadata": {},
     "output_type": "execute_result"
    }
   ],
   "source": [
    "arr.T"
   ]
  },
  {
   "cell_type": "code",
   "execution_count": 150,
   "metadata": {},
   "outputs": [
    {
     "data": {
      "text/plain": [
       "array([[ 5.8725136 ,  1.02777576,  4.48319658],\n",
       "       [ 1.02777576,  4.07579684, -1.62895499],\n",
       "       [ 4.48319658, -1.62895499,  8.47528928]])"
      ]
     },
     "execution_count": 150,
     "metadata": {},
     "output_type": "execute_result"
    }
   ],
   "source": [
    "np.dot(arr.T,arr)"
   ]
  },
  {
   "cell_type": "code",
   "execution_count": 151,
   "metadata": {},
   "outputs": [],
   "source": [
    "arr = np.arange(16).reshape((2,2,4))"
   ]
  },
  {
   "cell_type": "code",
   "execution_count": 152,
   "metadata": {},
   "outputs": [
    {
     "data": {
      "text/plain": [
       "array([[[ 0,  1,  2,  3],\n",
       "        [ 4,  5,  6,  7]],\n",
       "\n",
       "       [[ 8,  9, 10, 11],\n",
       "        [12, 13, 14, 15]]])"
      ]
     },
     "execution_count": 152,
     "metadata": {},
     "output_type": "execute_result"
    }
   ],
   "source": [
    "arr"
   ]
  },
  {
   "cell_type": "code",
   "execution_count": 153,
   "metadata": {},
   "outputs": [
    {
     "data": {
      "text/plain": [
       "array([[[ 0,  1,  2,  3],\n",
       "        [ 8,  9, 10, 11]],\n",
       "\n",
       "       [[ 4,  5,  6,  7],\n",
       "        [12, 13, 14, 15]]])"
      ]
     },
     "execution_count": 153,
     "metadata": {},
     "output_type": "execute_result"
    }
   ],
   "source": [
    "arr.transpose((1,0,2))"
   ]
  },
  {
   "cell_type": "code",
   "execution_count": 154,
   "metadata": {},
   "outputs": [
    {
     "data": {
      "text/plain": [
       "array([[[ 0,  1,  2,  3],\n",
       "        [ 4,  5,  6,  7]],\n",
       "\n",
       "       [[ 8,  9, 10, 11],\n",
       "        [12, 13, 14, 15]]])"
      ]
     },
     "execution_count": 154,
     "metadata": {},
     "output_type": "execute_result"
    }
   ],
   "source": [
    "arr"
   ]
  },
  {
   "cell_type": "code",
   "execution_count": 155,
   "metadata": {},
   "outputs": [
    {
     "data": {
      "text/plain": [
       "array([[[ 0,  4],\n",
       "        [ 1,  5],\n",
       "        [ 2,  6],\n",
       "        [ 3,  7]],\n",
       "\n",
       "       [[ 8, 12],\n",
       "        [ 9, 13],\n",
       "        [10, 14],\n",
       "        [11, 15]]])"
      ]
     },
     "execution_count": 155,
     "metadata": {},
     "output_type": "execute_result"
    }
   ],
   "source": [
    "arr.swapaxes(1,2)"
   ]
  },
  {
   "cell_type": "code",
   "execution_count": 156,
   "metadata": {},
   "outputs": [],
   "source": [
    "arr = np.arange(10)"
   ]
  },
  {
   "cell_type": "code",
   "execution_count": 157,
   "metadata": {},
   "outputs": [
    {
     "data": {
      "text/plain": [
       "array([0, 1, 2, 3, 4, 5, 6, 7, 8, 9])"
      ]
     },
     "execution_count": 157,
     "metadata": {},
     "output_type": "execute_result"
    }
   ],
   "source": [
    "arr"
   ]
  },
  {
   "cell_type": "code",
   "execution_count": 158,
   "metadata": {},
   "outputs": [
    {
     "data": {
      "text/plain": [
       "array([0.        , 1.        , 1.41421356, 1.73205081, 2.        ,\n",
       "       2.23606798, 2.44948974, 2.64575131, 2.82842712, 3.        ])"
      ]
     },
     "execution_count": 158,
     "metadata": {},
     "output_type": "execute_result"
    }
   ],
   "source": [
    "np.sqrt(arr)"
   ]
  },
  {
   "cell_type": "code",
   "execution_count": 159,
   "metadata": {},
   "outputs": [],
   "source": [
    "x = np.random.randn(8)"
   ]
  },
  {
   "cell_type": "code",
   "execution_count": 160,
   "metadata": {},
   "outputs": [],
   "source": [
    "y = np.random.randn(8)"
   ]
  },
  {
   "cell_type": "code",
   "execution_count": 161,
   "metadata": {},
   "outputs": [
    {
     "data": {
      "text/plain": [
       "array([-0.81282937, -0.2663076 , -0.39666892, -0.35814526, -2.67937175,\n",
       "        0.11474053,  0.59004822,  0.10167989])"
      ]
     },
     "execution_count": 161,
     "metadata": {},
     "output_type": "execute_result"
    }
   ],
   "source": [
    "x"
   ]
  },
  {
   "cell_type": "code",
   "execution_count": 162,
   "metadata": {},
   "outputs": [
    {
     "data": {
      "text/plain": [
       "array([-0.00832187,  0.32146946,  1.43432291,  0.73213537,  0.29194773,\n",
       "       -0.00494293,  0.57244623, -1.19025341])"
      ]
     },
     "execution_count": 162,
     "metadata": {},
     "output_type": "execute_result"
    }
   ],
   "source": [
    "y"
   ]
  },
  {
   "cell_type": "code",
   "execution_count": 164,
   "metadata": {},
   "outputs": [
    {
     "data": {
      "text/plain": [
       "array([-0.00832187,  0.32146946,  1.43432291,  0.73213537,  0.29194773,\n",
       "        0.11474053,  0.59004822,  0.10167989])"
      ]
     },
     "execution_count": 164,
     "metadata": {},
     "output_type": "execute_result"
    }
   ],
   "source": [
    "np.maximum(x,y)"
   ]
  },
  {
   "cell_type": "code",
   "execution_count": 165,
   "metadata": {},
   "outputs": [],
   "source": [
    "arr = np.random.randn(7) * 5"
   ]
  },
  {
   "cell_type": "code",
   "execution_count": 166,
   "metadata": {},
   "outputs": [
    {
     "data": {
      "text/plain": [
       "array([-0.0341505 , -1.4007458 , -5.74073074,  0.82872836, -4.58928196,\n",
       "       -2.92296369,  7.37407839])"
      ]
     },
     "execution_count": 166,
     "metadata": {},
     "output_type": "execute_result"
    }
   ],
   "source": [
    "arr"
   ]
  },
  {
   "cell_type": "code",
   "execution_count": 167,
   "metadata": {},
   "outputs": [],
   "source": [
    "remainder,whole_part = np.modf(arr)"
   ]
  },
  {
   "cell_type": "code",
   "execution_count": 168,
   "metadata": {},
   "outputs": [
    {
     "data": {
      "text/plain": [
       "array([-0.0341505 , -0.4007458 , -0.74073074,  0.82872836, -0.58928196,\n",
       "       -0.92296369,  0.37407839])"
      ]
     },
     "execution_count": 168,
     "metadata": {},
     "output_type": "execute_result"
    }
   ],
   "source": [
    "remainder"
   ]
  },
  {
   "cell_type": "code",
   "execution_count": 169,
   "metadata": {},
   "outputs": [
    {
     "data": {
      "text/plain": [
       "array([-0., -1., -5.,  0., -4., -2.,  7.])"
      ]
     },
     "execution_count": 169,
     "metadata": {},
     "output_type": "execute_result"
    }
   ],
   "source": [
    "whole_part"
   ]
  },
  {
   "cell_type": "code",
   "execution_count": 170,
   "metadata": {},
   "outputs": [
    {
     "data": {
      "text/plain": [
       "array([-0.0341505 , -1.4007458 , -5.74073074,  0.82872836, -4.58928196,\n",
       "       -2.92296369,  7.37407839])"
      ]
     },
     "execution_count": 170,
     "metadata": {},
     "output_type": "execute_result"
    }
   ],
   "source": [
    "arr"
   ]
  },
  {
   "cell_type": "code",
   "execution_count": 171,
   "metadata": {},
   "outputs": [
    {
     "name": "stderr",
     "output_type": "stream",
     "text": [
      "/var/folders/3x/9l24p0_15v7f2c1jgn7mjslc0000gp/T/ipykernel_33817/2296558006.py:1: RuntimeWarning: invalid value encountered in sqrt\n",
      "  np.sqrt(arr)\n"
     ]
    },
    {
     "data": {
      "text/plain": [
       "array([       nan,        nan,        nan, 0.91034519,        nan,\n",
       "              nan, 2.71552544])"
      ]
     },
     "execution_count": 171,
     "metadata": {},
     "output_type": "execute_result"
    }
   ],
   "source": [
    "np.sqrt(arr)"
   ]
  },
  {
   "cell_type": "code",
   "execution_count": 172,
   "metadata": {},
   "outputs": [
    {
     "name": "stderr",
     "output_type": "stream",
     "text": [
      "/var/folders/3x/9l24p0_15v7f2c1jgn7mjslc0000gp/T/ipykernel_33817/1371627048.py:1: RuntimeWarning: invalid value encountered in sqrt\n",
      "  np.sqrt(arr,arr)\n"
     ]
    },
    {
     "data": {
      "text/plain": [
       "array([       nan,        nan,        nan, 0.91034519,        nan,\n",
       "              nan, 2.71552544])"
      ]
     },
     "execution_count": 172,
     "metadata": {},
     "output_type": "execute_result"
    }
   ],
   "source": [
    "np.sqrt(arr,arr)"
   ]
  },
  {
   "cell_type": "code",
   "execution_count": 173,
   "metadata": {},
   "outputs": [],
   "source": [
    "points = np.arange(-5,5,0.01)"
   ]
  },
  {
   "cell_type": "code",
   "execution_count": 174,
   "metadata": {},
   "outputs": [],
   "source": [
    "xs,ys = np.meshgrid(points,points)"
   ]
  },
  {
   "cell_type": "code",
   "execution_count": 175,
   "metadata": {},
   "outputs": [
    {
     "data": {
      "text/plain": [
       "array([[-5.  , -5.  , -5.  , ..., -5.  , -5.  , -5.  ],\n",
       "       [-4.99, -4.99, -4.99, ..., -4.99, -4.99, -4.99],\n",
       "       [-4.98, -4.98, -4.98, ..., -4.98, -4.98, -4.98],\n",
       "       ...,\n",
       "       [ 4.97,  4.97,  4.97, ...,  4.97,  4.97,  4.97],\n",
       "       [ 4.98,  4.98,  4.98, ...,  4.98,  4.98,  4.98],\n",
       "       [ 4.99,  4.99,  4.99, ...,  4.99,  4.99,  4.99]])"
      ]
     },
     "execution_count": 175,
     "metadata": {},
     "output_type": "execute_result"
    }
   ],
   "source": [
    "ys"
   ]
  },
  {
   "cell_type": "code",
   "execution_count": 176,
   "metadata": {},
   "outputs": [
    {
     "data": {
      "text/plain": [
       "array([[-5.  , -4.99, -4.98, ...,  4.97,  4.98,  4.99],\n",
       "       [-5.  , -4.99, -4.98, ...,  4.97,  4.98,  4.99],\n",
       "       [-5.  , -4.99, -4.98, ...,  4.97,  4.98,  4.99],\n",
       "       ...,\n",
       "       [-5.  , -4.99, -4.98, ...,  4.97,  4.98,  4.99],\n",
       "       [-5.  , -4.99, -4.98, ...,  4.97,  4.98,  4.99],\n",
       "       [-5.  , -4.99, -4.98, ...,  4.97,  4.98,  4.99]])"
      ]
     },
     "execution_count": 176,
     "metadata": {},
     "output_type": "execute_result"
    }
   ],
   "source": [
    "xs"
   ]
  },
  {
   "cell_type": "code",
   "execution_count": 177,
   "metadata": {},
   "outputs": [],
   "source": [
    "z = np.sqrt(xs ** 2 + ys ** 2)"
   ]
  },
  {
   "cell_type": "code",
   "execution_count": 178,
   "metadata": {},
   "outputs": [
    {
     "data": {
      "text/plain": [
       "array([[7.07106781, 7.06400028, 7.05693985, ..., 7.04988652, 7.05693985,\n",
       "        7.06400028],\n",
       "       [7.06400028, 7.05692568, 7.04985815, ..., 7.04279774, 7.04985815,\n",
       "        7.05692568],\n",
       "       [7.05693985, 7.04985815, 7.04278354, ..., 7.03571603, 7.04278354,\n",
       "        7.04985815],\n",
       "       ...,\n",
       "       [7.04988652, 7.04279774, 7.03571603, ..., 7.0286414 , 7.03571603,\n",
       "        7.04279774],\n",
       "       [7.05693985, 7.04985815, 7.04278354, ..., 7.03571603, 7.04278354,\n",
       "        7.04985815],\n",
       "       [7.06400028, 7.05692568, 7.04985815, ..., 7.04279774, 7.04985815,\n",
       "        7.05692568]])"
      ]
     },
     "execution_count": 178,
     "metadata": {},
     "output_type": "execute_result"
    }
   ],
   "source": [
    "z"
   ]
  },
  {
   "cell_type": "code",
   "execution_count": 179,
   "metadata": {},
   "outputs": [],
   "source": [
    "import matplotlib.pyplot as plt"
   ]
  },
  {
   "cell_type": "code",
   "execution_count": 181,
   "metadata": {},
   "outputs": [
    {
     "data": {
      "text/plain": [
       "<matplotlib.colorbar.Colorbar at 0x1641c7580>"
      ]
     },
     "execution_count": 181,
     "metadata": {},
     "output_type": "execute_result"
    },
    {
     "data": {
      "image/png": "[encoded data removed]",
      "text/plain": [
       "<Figure size 432x288 with 2 Axes>"
      ]
     },
     "metadata": {
      "needs_background": "light"
     },
     "output_type": "display_data"
    }
   ],
   "source": [
    "plt.imshow(z, cmap=plt.cm.gray);plt.colorbar()"
   ]
  },
  {
   "cell_type": "code",
   "execution_count": 183,
   "metadata": {},
   "outputs": [
    {
     "data": {
      "text/plain": [
       "Text(0.5, 1.0, 'Image plot of $\\\\sqrt{x^2 + y^2}$ for a grid of values')"
      ]
     },
     "execution_count": 183,
     "metadata": {},
     "output_type": "execute_result"
    },
    {
     "data": {
      "image/png": "[encoded data removed]",
      "text/plain": [
       "<Figure size 432x288 with 1 Axes>"
      ]
     },
     "metadata": {
      "needs_background": "light"
     },
     "output_type": "display_data"
    }
   ],
   "source": [
    "plt.title(\"Image plot of $\\sqrt{x^2 + y^2}$ for a grid of values\")"
   ]
  },
  {
   "cell_type": "code",
   "execution_count": 184,
   "metadata": {},
   "outputs": [],
   "source": [
    "xarr = np.array([1.1,1.2,1.3,1.4,1.5])"
   ]
  },
  {
   "cell_type": "code",
   "execution_count": 186,
   "metadata": {},
   "outputs": [],
   "source": [
    "yarr = np.array([2.1,2.2,2.3,2.4,2.5])"
   ]
  },
  {
   "cell_type": "code",
   "execution_count": 187,
   "metadata": {},
   "outputs": [],
   "source": [
    "cond = np.array([True,False,True,True,False])"
   ]
  },
  {
   "cell_type": "code",
   "execution_count": 191,
   "metadata": {},
   "outputs": [],
   "source": [
    "result = [(x if c else y)\n",
    "          for x,y,c in zip(xarr,yarr,cond)]"
   ]
  },
  {
   "cell_type": "code",
   "execution_count": 192,
   "metadata": {},
   "outputs": [
    {
     "data": {
      "text/plain": [
       "[1.1, 2.2, 1.3, 1.4, 2.5]"
      ]
     },
     "execution_count": 192,
     "metadata": {},
     "output_type": "execute_result"
    }
   ],
   "source": [
    "result"
   ]
  },
  {
   "cell_type": "code",
   "execution_count": null,
   "metadata": {},
   "outputs": [],
   "source": []
  },
  {
   "cell_type": "code",
   "execution_count": null,
   "metadata": {},
   "outputs": [],
   "source": []
  },
  {
   "cell_type": "code",
   "execution_count": 189,
   "metadata": {},
   "outputs": [
    {
     "data": {
      "text/plain": [
       "[<generator object <genexpr> at 0x1694b46d0>]"
      ]
     },
     "execution_count": 189,
     "metadata": {},
     "output_type": "execute_result"
    }
   ],
   "source": [
    "result"
   ]
  },
  {
   "cell_type": "code",
   "execution_count": 193,
   "metadata": {},
   "outputs": [],
   "source": [
    "arr = np.random.randn(4,4)"
   ]
  },
  {
   "cell_type": "code",
   "execution_count": 194,
   "metadata": {},
   "outputs": [
    {
     "data": {
      "text/plain": [
       "array([[ 1.49485232, -1.07360342,  0.06838167, -1.4357945 ],\n",
       "       [ 1.10181224, -0.83796061,  1.27758324, -0.49152251],\n",
       "       [-0.6449055 , -0.06487653,  1.15067538,  0.35776079],\n",
       "       [-0.64951346,  0.5417234 , -0.4413759 ,  0.06597635]])"
      ]
     },
     "execution_count": 194,
     "metadata": {},
     "output_type": "execute_result"
    }
   ],
   "source": [
    "arr"
   ]
  },
  {
   "cell_type": "code",
   "execution_count": 195,
   "metadata": {},
   "outputs": [
    {
     "data": {
      "text/plain": [
       "array([[ True, False,  True, False],\n",
       "       [ True, False,  True, False],\n",
       "       [False, False,  True,  True],\n",
       "       [False,  True, False,  True]])"
      ]
     },
     "execution_count": 195,
     "metadata": {},
     "output_type": "execute_result"
    }
   ],
   "source": [
    "arr > 0"
   ]
  },
  {
   "cell_type": "code",
   "execution_count": 196,
   "metadata": {},
   "outputs": [
    {
     "data": {
      "text/plain": [
       "array([[ 2, -2,  2, -2],\n",
       "       [ 2, -2,  2, -2],\n",
       "       [-2, -2,  2,  2],\n",
       "       [-2,  2, -2,  2]])"
      ]
     },
     "execution_count": 196,
     "metadata": {},
     "output_type": "execute_result"
    }
   ],
   "source": [
    "np.where(arr > 0,2,-2)"
   ]
  },
  {
   "cell_type": "code",
   "execution_count": 197,
   "metadata": {},
   "outputs": [
    {
     "data": {
      "text/plain": [
       "array([[ 2.        , -1.07360342,  2.        , -1.4357945 ],\n",
       "       [ 2.        , -0.83796061,  2.        , -0.49152251],\n",
       "       [-0.6449055 , -0.06487653,  2.        ,  2.        ],\n",
       "       [-0.64951346,  2.        , -0.4413759 ,  2.        ]])"
      ]
     },
     "execution_count": 197,
     "metadata": {},
     "output_type": "execute_result"
    }
   ],
   "source": [
    "np.where(arr > 0,2,arr)"
   ]
  },
  {
   "cell_type": "code",
   "execution_count": 198,
   "metadata": {},
   "outputs": [],
   "source": [
    "arr = np.random.randn(5,4)"
   ]
  },
  {
   "cell_type": "code",
   "execution_count": 199,
   "metadata": {},
   "outputs": [
    {
     "data": {
      "text/plain": [
       "array([[ 0.38667325,  0.62045202,  1.86773391,  0.79508666],\n",
       "       [-0.89418251, -1.02741352, -1.44002022, -1.48852207],\n",
       "       [-0.05562004, -0.19658123,  0.14442585,  2.82884801],\n",
       "       [-0.05982266,  1.48956475,  0.12170534,  1.61281398],\n",
       "       [-0.27018796,  0.0616427 ,  0.61131513,  1.02511462]])"
      ]
     },
     "execution_count": 199,
     "metadata": {},
     "output_type": "execute_result"
    }
   ],
   "source": [
    "arr"
   ]
  },
  {
   "cell_type": "code",
   "execution_count": 200,
   "metadata": {},
   "outputs": [
    {
     "data": {
      "text/plain": [
       "0.306651300009234"
      ]
     },
     "execution_count": 200,
     "metadata": {},
     "output_type": "execute_result"
    }
   ],
   "source": [
    "arr.mean()"
   ]
  },
  {
   "cell_type": "code",
   "execution_count": 201,
   "metadata": {},
   "outputs": [
    {
     "data": {
      "text/plain": [
       "6.133026000184681"
      ]
     },
     "execution_count": 201,
     "metadata": {},
     "output_type": "execute_result"
    }
   ],
   "source": [
    "arr.sum()"
   ]
  },
  {
   "cell_type": "code",
   "execution_count": 202,
   "metadata": {},
   "outputs": [
    {
     "data": {
      "text/plain": [
       "array([ 0.91748646, -1.21253458,  0.68026815,  0.79106535,  0.35697112])"
      ]
     },
     "execution_count": 202,
     "metadata": {},
     "output_type": "execute_result"
    }
   ],
   "source": [
    "arr.mean(axis=1)"
   ]
  },
  {
   "cell_type": "code",
   "execution_count": 203,
   "metadata": {},
   "outputs": [
    {
     "data": {
      "text/plain": [
       "array([-0.89313993,  0.94766472,  1.30516002,  4.7733412 ])"
      ]
     },
     "execution_count": 203,
     "metadata": {},
     "output_type": "execute_result"
    }
   ],
   "source": [
    "arr.sum(axis=0)"
   ]
  },
  {
   "cell_type": "code",
   "execution_count": 204,
   "metadata": {},
   "outputs": [],
   "source": [
    "arr = np.array([0,1,2,3,4,5,6,7])"
   ]
  },
  {
   "cell_type": "code",
   "execution_count": 205,
   "metadata": {},
   "outputs": [
    {
     "data": {
      "text/plain": [
       "array([ 0,  1,  3,  6, 10, 15, 21, 28])"
      ]
     },
     "execution_count": 205,
     "metadata": {},
     "output_type": "execute_result"
    }
   ],
   "source": [
    "arr.cumsum()"
   ]
  },
  {
   "cell_type": "code",
   "execution_count": 206,
   "metadata": {},
   "outputs": [],
   "source": [
    "arr = np.array([[0,1,2],[3,4,5],[6,7,8]])"
   ]
  },
  {
   "cell_type": "code",
   "execution_count": 207,
   "metadata": {},
   "outputs": [
    {
     "data": {
      "text/plain": [
       "array([[0, 1, 2],\n",
       "       [3, 4, 5],\n",
       "       [6, 7, 8]])"
      ]
     },
     "execution_count": 207,
     "metadata": {},
     "output_type": "execute_result"
    }
   ],
   "source": [
    "arr"
   ]
  },
  {
   "cell_type": "code",
   "execution_count": 208,
   "metadata": {},
   "outputs": [
    {
     "data": {
      "text/plain": [
       "array([[ 0,  1,  2],\n",
       "       [ 3,  5,  7],\n",
       "       [ 9, 12, 15]])"
      ]
     },
     "execution_count": 208,
     "metadata": {},
     "output_type": "execute_result"
    }
   ],
   "source": [
    "arr.cumsum(axis=0)"
   ]
  },
  {
   "cell_type": "code",
   "execution_count": 209,
   "metadata": {},
   "outputs": [
    {
     "data": {
      "text/plain": [
       "array([[  0,   0,   0],\n",
       "       [  3,  12,  60],\n",
       "       [  6,  42, 336]])"
      ]
     },
     "execution_count": 209,
     "metadata": {},
     "output_type": "execute_result"
    }
   ],
   "source": [
    "arr.cumprod(axis=1)"
   ]
  },
  {
   "cell_type": "code",
   "execution_count": 210,
   "metadata": {},
   "outputs": [],
   "source": [
    "arr = np.random.randn(100)"
   ]
  },
  {
   "cell_type": "code",
   "execution_count": 211,
   "metadata": {},
   "outputs": [
    {
     "data": {
      "text/plain": [
       "array([-1.35742098,  0.56028985,  1.45424077, -0.66489156,  0.79183394,\n",
       "        0.57593801, -0.06125726,  1.04932028, -0.10282589, -1.44265465,\n",
       "        0.11708748,  0.10453421, -0.3142056 ,  1.01732175,  1.48745893,\n",
       "       -0.00870312,  1.12866948,  0.08314474, -0.38446669,  1.22271496,\n",
       "        0.49332533, -1.01573278,  1.12802623, -0.21034727,  0.46811824,\n",
       "        0.11164131, -0.68918527, -1.86709098, -0.40703401,  0.86748617,\n",
       "        0.24733326, -0.63799066, -1.8204608 , -0.63125755, -0.5172547 ,\n",
       "        1.17308026, -1.2982119 , -1.48431175,  0.02139174,  2.02664635,\n",
       "        0.12656972,  1.34929613,  0.58221334,  0.36705234,  0.18099472,\n",
       "       -2.42853641, -0.79176825, -2.13016773,  0.80868853,  0.97131163,\n",
       "        1.18112849,  0.09499346,  1.01263777,  0.34087256,  0.82082209,\n",
       "       -0.1064207 , -0.8363095 ,  0.32939345, -0.36287888, -0.29511704,\n",
       "        1.05852295,  0.51526592, -1.45797738, -0.22328538,  0.9991116 ,\n",
       "        0.48083166, -0.56475796,  0.16253018, -1.07969807,  1.97264971,\n",
       "       -0.06618645, -2.44551853, -0.85003069, -0.54166957,  0.22440715,\n",
       "        0.10917664,  1.36111908,  0.46109703, -0.39656796, -1.51700472,\n",
       "        0.53562716, -1.26621856,  0.58174028, -0.98134717, -0.26840157,\n",
       "       -0.6721876 ,  1.24932642, -1.00432448, -1.77992717, -0.89816503,\n",
       "       -0.78931309, -0.1644227 , -1.27988343,  0.03608093,  1.191268  ,\n",
       "       -0.28103704,  0.99994101, -0.17455222,  0.67501679, -0.26570141])"
      ]
     },
     "execution_count": 211,
     "metadata": {},
     "output_type": "execute_result"
    }
   ],
   "source": [
    "arr"
   ]
  },
  {
   "cell_type": "code",
   "execution_count": 212,
   "metadata": {},
   "outputs": [
    {
     "data": {
      "text/plain": [
       "51"
      ]
     },
     "execution_count": 212,
     "metadata": {},
     "output_type": "execute_result"
    }
   ],
   "source": [
    "(arr>0).sum()"
   ]
  },
  {
   "cell_type": "code",
   "execution_count": 213,
   "metadata": {},
   "outputs": [],
   "source": [
    "bools = np.array([False,False,True])"
   ]
  },
  {
   "cell_type": "code",
   "execution_count": 214,
   "metadata": {},
   "outputs": [
    {
     "data": {
      "text/plain": [
       "True"
      ]
     },
     "execution_count": 214,
     "metadata": {},
     "output_type": "execute_result"
    }
   ],
   "source": [
    "bools.any()"
   ]
  },
  {
   "cell_type": "code",
   "execution_count": 215,
   "metadata": {},
   "outputs": [
    {
     "data": {
      "text/plain": [
       "False"
      ]
     },
     "execution_count": 215,
     "metadata": {},
     "output_type": "execute_result"
    }
   ],
   "source": [
    "bools.all()"
   ]
  },
  {
   "cell_type": "code",
   "execution_count": 216,
   "metadata": {},
   "outputs": [],
   "source": [
    "arr = np.random.randn(6)"
   ]
  },
  {
   "cell_type": "code",
   "execution_count": 217,
   "metadata": {},
   "outputs": [
    {
     "data": {
      "text/plain": [
       "array([-1.63430527,  0.80193252,  0.27284135, -0.71658266, -0.09025113,\n",
       "       -0.32016143])"
      ]
     },
     "execution_count": 217,
     "metadata": {},
     "output_type": "execute_result"
    }
   ],
   "source": [
    "arr"
   ]
  },
  {
   "cell_type": "code",
   "execution_count": 218,
   "metadata": {},
   "outputs": [],
   "source": [
    "arr.sort()"
   ]
  },
  {
   "cell_type": "code",
   "execution_count": 219,
   "metadata": {},
   "outputs": [
    {
     "data": {
      "text/plain": [
       "array([-1.63430527, -0.71658266, -0.32016143, -0.09025113,  0.27284135,\n",
       "        0.80193252])"
      ]
     },
     "execution_count": 219,
     "metadata": {},
     "output_type": "execute_result"
    }
   ],
   "source": [
    "arr"
   ]
  },
  {
   "cell_type": "code",
   "execution_count": 220,
   "metadata": {},
   "outputs": [],
   "source": [
    "arr = np.random.randn(5,3)"
   ]
  },
  {
   "cell_type": "code",
   "execution_count": 221,
   "metadata": {},
   "outputs": [
    {
     "data": {
      "text/plain": [
       "array([[-0.15716675,  0.94132095,  0.12021227],\n",
       "       [ 0.47895564,  0.9383253 , -0.34008875],\n",
       "       [ 0.29510548,  1.24576274, -0.46340021],\n",
       "       [ 1.66250653, -0.6157562 ,  0.2973346 ],\n",
       "       [-0.01921715, -0.82048122, -0.61145112]])"
      ]
     },
     "execution_count": 221,
     "metadata": {},
     "output_type": "execute_result"
    }
   ],
   "source": [
    "arr"
   ]
  },
  {
   "cell_type": "code",
   "execution_count": 222,
   "metadata": {},
   "outputs": [],
   "source": [
    "arr.sort(1)"
   ]
  },
  {
   "cell_type": "code",
   "execution_count": 223,
   "metadata": {},
   "outputs": [
    {
     "data": {
      "text/plain": [
       "array([[-0.15716675,  0.12021227,  0.94132095],\n",
       "       [-0.34008875,  0.47895564,  0.9383253 ],\n",
       "       [-0.46340021,  0.29510548,  1.24576274],\n",
       "       [-0.6157562 ,  0.2973346 ,  1.66250653],\n",
       "       [-0.82048122, -0.61145112, -0.01921715]])"
      ]
     },
     "execution_count": 223,
     "metadata": {},
     "output_type": "execute_result"
    }
   ],
   "source": [
    "arr"
   ]
  },
  {
   "cell_type": "code",
   "execution_count": 224,
   "metadata": {},
   "outputs": [],
   "source": [
    "large_arr = np.random.randn(1000)"
   ]
  },
  {
   "cell_type": "code",
   "execution_count": 225,
   "metadata": {},
   "outputs": [],
   "source": [
    "large_arr.sort()"
   ]
  },
  {
   "cell_type": "code",
   "execution_count": 226,
   "metadata": {},
   "outputs": [
    {
     "data": {
      "text/plain": [
       "array([-2.60048907e+00, -2.46253922e+00, -2.42086805e+00, -2.38434914e+00,\n",
       "       -2.34585724e+00, -2.17845402e+00, -2.17655436e+00, -2.16839648e+00,\n",
       "       -2.16087996e+00, -2.09301234e+00, -2.07819077e+00, -2.01574039e+00,\n",
       "       -2.01093417e+00, -1.98083330e+00, -1.96999284e+00, -1.96856687e+00,\n",
       "       -1.95158055e+00, -1.94947205e+00, -1.94793276e+00, -1.93831575e+00,\n",
       "       -1.93209770e+00, -1.93137945e+00, -1.92730349e+00, -1.92664599e+00,\n",
       "       -1.90926116e+00, -1.89691710e+00, -1.83959898e+00, -1.77901131e+00,\n",
       "       -1.77813777e+00, -1.77777762e+00, -1.77572449e+00, -1.76145434e+00,\n",
       "       -1.76118976e+00, -1.74744448e+00, -1.73765326e+00, -1.71248430e+00,\n",
       "       -1.68299454e+00, -1.67005109e+00, -1.65732327e+00, -1.64738870e+00,\n",
       "       -1.62805992e+00, -1.62195364e+00, -1.61395946e+00, -1.61239290e+00,\n",
       "       -1.60921804e+00, -1.60525462e+00, -1.60335935e+00, -1.60327345e+00,\n",
       "       -1.59327343e+00, -1.59084416e+00, -1.57927081e+00, -1.57917934e+00,\n",
       "       -1.57712564e+00, -1.57597973e+00, -1.57270419e+00, -1.54527886e+00,\n",
       "       -1.53281044e+00, -1.53096433e+00, -1.51455700e+00, -1.51153876e+00,\n",
       "       -1.51023462e+00, -1.50801244e+00, -1.48732515e+00, -1.48679133e+00,\n",
       "       -1.46560329e+00, -1.46399033e+00, -1.46200519e+00, -1.45380698e+00,\n",
       "       -1.45364904e+00, -1.45288635e+00, -1.45169528e+00, -1.44795128e+00,\n",
       "       -1.43730779e+00, -1.43706795e+00, -1.43009243e+00, -1.42411059e+00,\n",
       "       -1.41923289e+00, -1.39919599e+00, -1.39679186e+00, -1.39048438e+00,\n",
       "       -1.38742536e+00, -1.38675125e+00, -1.38254532e+00, -1.38244503e+00,\n",
       "       -1.37758368e+00, -1.37600405e+00, -1.37404502e+00, -1.36851265e+00,\n",
       "       -1.36198908e+00, -1.35723685e+00, -1.34487822e+00, -1.34085674e+00,\n",
       "       -1.33148304e+00, -1.32847742e+00, -1.32653766e+00, -1.32416943e+00,\n",
       "       -1.32301119e+00, -1.32122591e+00, -1.31685328e+00, -1.31314924e+00,\n",
       "       -1.30898414e+00, -1.30724037e+00, -1.30687871e+00, -1.30403455e+00,\n",
       "       -1.29024481e+00, -1.27442277e+00, -1.26451024e+00, -1.26115563e+00,\n",
       "       -1.26053387e+00, -1.25783903e+00, -1.24673898e+00, -1.24423766e+00,\n",
       "       -1.22761389e+00, -1.22709665e+00, -1.22304076e+00, -1.22111826e+00,\n",
       "       -1.21674207e+00, -1.20784850e+00, -1.19910836e+00, -1.17116722e+00,\n",
       "       -1.16135711e+00, -1.15819462e+00, -1.15564421e+00, -1.15422561e+00,\n",
       "       -1.15153604e+00, -1.14966115e+00, -1.14856916e+00, -1.14760426e+00,\n",
       "       -1.13909190e+00, -1.13735875e+00, -1.13527129e+00, -1.13201915e+00,\n",
       "       -1.13086659e+00, -1.13059381e+00, -1.12697347e+00, -1.12432818e+00,\n",
       "       -1.12183429e+00, -1.11228853e+00, -1.11048995e+00, -1.10842622e+00,\n",
       "       -1.10219151e+00, -1.09647994e+00, -1.09009406e+00, -1.08847074e+00,\n",
       "       -1.08714872e+00, -1.08697568e+00, -1.08488057e+00, -1.08459711e+00,\n",
       "       -1.07987727e+00, -1.07166208e+00, -1.06906277e+00, -1.06334769e+00,\n",
       "       -1.05686318e+00, -1.04328147e+00, -1.04278835e+00, -1.04168649e+00,\n",
       "       -1.03763648e+00, -1.03690430e+00, -1.03452524e+00, -1.03314172e+00,\n",
       "       -1.03126554e+00, -1.02513189e+00, -1.01506234e+00, -1.00471868e+00,\n",
       "       -9.92547112e-01, -9.89634953e-01, -9.87458066e-01, -9.82843104e-01,\n",
       "       -9.82691029e-01, -9.76339704e-01, -9.74898166e-01, -9.72016585e-01,\n",
       "       -9.66289766e-01, -9.65382806e-01, -9.57935505e-01, -9.57865045e-01,\n",
       "       -9.53178936e-01, -9.50641979e-01, -9.48743845e-01, -9.48530791e-01,\n",
       "       -9.47527335e-01, -9.46457482e-01, -9.42928807e-01, -9.42750527e-01,\n",
       "       -9.15827226e-01, -9.14032020e-01, -9.13950413e-01, -9.12808745e-01,\n",
       "       -9.11247082e-01, -8.93358370e-01, -8.93238854e-01, -8.86023814e-01,\n",
       "       -8.79937355e-01, -8.79654164e-01, -8.75115458e-01, -8.74164125e-01,\n",
       "       -8.72715627e-01, -8.71464712e-01, -8.64745166e-01, -8.57860413e-01,\n",
       "       -8.52818462e-01, -8.52637138e-01, -8.49204214e-01, -8.45169054e-01,\n",
       "       -8.43257634e-01, -8.40244825e-01, -8.37209484e-01, -8.24961286e-01,\n",
       "       -8.23050572e-01, -8.14279360e-01, -8.12847631e-01, -8.08048021e-01,\n",
       "       -8.07967474e-01, -8.06347322e-01, -7.98304494e-01, -7.94718627e-01,\n",
       "       -7.94368529e-01, -7.90418497e-01, -7.89209478e-01, -7.88931506e-01,\n",
       "       -7.82407705e-01, -7.81244543e-01, -7.81215294e-01, -7.79829650e-01,\n",
       "       -7.77044215e-01, -7.75075645e-01, -7.71682507e-01, -7.67898310e-01,\n",
       "       -7.54991330e-01, -7.53628798e-01, -7.51075753e-01, -7.45614372e-01,\n",
       "       -7.45296302e-01, -7.43826292e-01, -7.41004111e-01, -7.39480750e-01,\n",
       "       -7.26286677e-01, -7.26029424e-01, -7.23932279e-01, -7.22314436e-01,\n",
       "       -7.19604674e-01, -7.14327002e-01, -7.12597480e-01, -7.05749175e-01,\n",
       "       -6.97700200e-01, -6.96317406e-01, -6.91117975e-01, -6.87558650e-01,\n",
       "       -6.83790324e-01, -6.77792897e-01, -6.76278403e-01, -6.66824544e-01,\n",
       "       -6.61698218e-01, -6.53454260e-01, -6.45696187e-01, -6.40285789e-01,\n",
       "       -6.38573826e-01, -6.36205232e-01, -6.33532303e-01, -6.33162757e-01,\n",
       "       -6.29246687e-01, -6.27172152e-01, -6.21663008e-01, -6.07169038e-01,\n",
       "       -6.01642499e-01, -5.97382105e-01, -5.93979879e-01, -5.90301218e-01,\n",
       "       -5.87301623e-01, -5.85024072e-01, -5.84831293e-01, -5.83393496e-01,\n",
       "       -5.81868251e-01, -5.81568706e-01, -5.79647388e-01, -5.78929410e-01,\n",
       "       -5.78332992e-01, -5.76198953e-01, -5.75934015e-01, -5.74435263e-01,\n",
       "       -5.74170623e-01, -5.73161094e-01, -5.71356915e-01, -5.71341279e-01,\n",
       "       -5.64640684e-01, -5.61641043e-01, -5.57347438e-01, -5.53951846e-01,\n",
       "       -5.50033857e-01, -5.46848389e-01, -5.46135178e-01, -5.45871646e-01,\n",
       "       -5.42336299e-01, -5.41424359e-01, -5.39267246e-01, -5.38819046e-01,\n",
       "       -5.35900352e-01, -5.33208452e-01, -5.28277734e-01, -5.26265270e-01,\n",
       "       -5.26050478e-01, -5.24827622e-01, -5.23298698e-01, -5.21748332e-01,\n",
       "       -5.20458813e-01, -5.19731964e-01, -5.19194943e-01, -5.16561701e-01,\n",
       "       -5.14054405e-01, -5.12218759e-01, -5.10146665e-01, -5.09840626e-01,\n",
       "       -5.07982832e-01, -5.06987519e-01, -5.06883310e-01, -5.01367105e-01,\n",
       "       -5.01314305e-01, -5.00366363e-01, -5.00034803e-01, -4.96538363e-01,\n",
       "       -4.96032381e-01, -4.83950106e-01, -4.72485251e-01, -4.71695949e-01,\n",
       "       -4.65597401e-01, -4.56421669e-01, -4.54234093e-01, -4.50024521e-01,\n",
       "       -4.49454820e-01, -4.49278282e-01, -4.47474076e-01, -4.39441138e-01,\n",
       "       -4.38468190e-01, -4.36479928e-01, -4.32302594e-01, -4.30744855e-01,\n",
       "       -4.30512657e-01, -4.30191592e-01, -4.30172129e-01, -4.27346684e-01,\n",
       "       -4.24728710e-01, -4.21715917e-01, -4.20557782e-01, -4.18998016e-01,\n",
       "       -4.17359207e-01, -4.14859107e-01, -4.13847919e-01, -4.13674284e-01,\n",
       "       -4.13362541e-01, -4.07469642e-01, -4.05844244e-01, -4.05607713e-01,\n",
       "       -4.02812620e-01, -3.96338743e-01, -3.93736836e-01, -3.93678490e-01,\n",
       "       -3.90326064e-01, -3.89108682e-01, -3.86319714e-01, -3.85867750e-01,\n",
       "       -3.85317682e-01, -3.82240987e-01, -3.81896875e-01, -3.80285136e-01,\n",
       "       -3.79439158e-01, -3.79308494e-01, -3.63709579e-01, -3.63668094e-01,\n",
       "       -3.60988031e-01, -3.60718232e-01, -3.58369155e-01, -3.57907988e-01,\n",
       "       -3.57594160e-01, -3.55092637e-01, -3.54595048e-01, -3.49261894e-01,\n",
       "       -3.47781816e-01, -3.46690241e-01, -3.46207457e-01, -3.45640876e-01,\n",
       "       -3.44702751e-01, -3.44352281e-01, -3.42545122e-01, -3.42266880e-01,\n",
       "       -3.38713688e-01, -3.37958356e-01, -3.37173630e-01, -3.36907753e-01,\n",
       "       -3.34719533e-01, -3.21652176e-01, -3.21469173e-01, -3.13913810e-01,\n",
       "       -3.05891219e-01, -3.02602563e-01, -3.02274381e-01, -2.99380624e-01,\n",
       "       -2.99269639e-01, -2.98413920e-01, -2.93317628e-01, -2.88741265e-01,\n",
       "       -2.87732308e-01, -2.86108472e-01, -2.85723864e-01, -2.85485750e-01,\n",
       "       -2.85419357e-01, -2.82185186e-01, -2.82009320e-01, -2.76003745e-01,\n",
       "       -2.75695657e-01, -2.74252848e-01, -2.71317343e-01, -2.59195435e-01,\n",
       "       -2.57360850e-01, -2.53942446e-01, -2.53515623e-01, -2.50844889e-01,\n",
       "       -2.48921173e-01, -2.48435403e-01, -2.41010595e-01, -2.40822423e-01,\n",
       "       -2.38020874e-01, -2.35404898e-01, -2.34343409e-01, -2.32572158e-01,\n",
       "       -2.30526385e-01, -2.30272182e-01, -2.26656605e-01, -2.25232584e-01,\n",
       "       -2.22610517e-01, -2.21766907e-01, -2.16095710e-01, -2.15763350e-01,\n",
       "       -2.07902036e-01, -2.04921664e-01, -2.04510332e-01, -2.03756174e-01,\n",
       "       -2.03383359e-01, -2.02974651e-01, -2.01839442e-01, -2.00683964e-01,\n",
       "       -2.00253587e-01, -1.97214890e-01, -1.96664567e-01, -1.96464152e-01,\n",
       "       -1.95215051e-01, -1.91314340e-01, -1.90900632e-01, -1.88393580e-01,\n",
       "       -1.86747674e-01, -1.86208868e-01, -1.83115499e-01, -1.77863640e-01,\n",
       "       -1.77373835e-01, -1.77274091e-01, -1.76750636e-01, -1.64157618e-01,\n",
       "       -1.63825317e-01, -1.63485989e-01, -1.62152168e-01, -1.62113187e-01,\n",
       "       -1.61781368e-01, -1.59684794e-01, -1.59467547e-01, -1.59433939e-01,\n",
       "       -1.58034475e-01, -1.57879769e-01, -1.55731466e-01, -1.53413654e-01,\n",
       "       -1.48013795e-01, -1.46179985e-01, -1.45938785e-01, -1.43574919e-01,\n",
       "       -1.43107512e-01, -1.36842773e-01, -1.35954319e-01, -1.32913932e-01,\n",
       "       -1.28044657e-01, -1.25945275e-01, -1.25856370e-01, -1.24819254e-01,\n",
       "       -1.23796939e-01, -1.23762346e-01, -1.23148244e-01, -1.22748344e-01,\n",
       "       -1.21070571e-01, -1.20959094e-01, -1.20782784e-01, -1.17962116e-01,\n",
       "       -1.15083444e-01, -1.14548949e-01, -1.14429099e-01, -1.12211675e-01,\n",
       "       -1.06974171e-01, -1.01861360e-01, -1.00412081e-01, -9.49691604e-02,\n",
       "       -8.98806416e-02, -8.03512641e-02, -7.95217878e-02, -7.91405665e-02,\n",
       "       -7.91072141e-02, -7.90920169e-02, -7.89743372e-02, -7.83647035e-02,\n",
       "       -7.82893206e-02, -7.41894297e-02, -7.17475052e-02, -7.14943733e-02,\n",
       "       -6.81171722e-02, -6.53762272e-02, -5.93201462e-02, -4.22371779e-02,\n",
       "       -4.02695023e-02, -3.88829491e-02, -3.85704074e-02, -3.77866356e-02,\n",
       "       -3.23345872e-02, -2.97832011e-02, -2.30384938e-02, -1.97265535e-02,\n",
       "       -9.30329270e-03, -2.81539999e-03, -2.03737703e-03, -2.53425708e-04,\n",
       "        1.99685228e-04,  1.18785463e-03,  1.26452273e-03,  2.56075962e-03,\n",
       "        5.12979727e-03,  1.03096552e-02,  1.54775027e-02,  1.68458388e-02,\n",
       "        1.85436787e-02,  1.98601199e-02,  2.02889836e-02,  2.45040080e-02,\n",
       "        2.71391655e-02,  2.84669200e-02,  2.92664520e-02,  2.93510390e-02,\n",
       "        3.16541500e-02,  4.51286619e-02,  4.79126300e-02,  4.85237483e-02,\n",
       "        4.94940120e-02,  4.94945990e-02,  5.00681300e-02,  5.07400118e-02,\n",
       "        5.26213590e-02,  5.44236513e-02,  5.65339121e-02,  5.86433691e-02,\n",
       "        6.16236878e-02,  6.17581040e-02,  6.26584674e-02,  6.43719181e-02,\n",
       "        6.51227934e-02,  6.78773451e-02,  7.43233587e-02,  7.60673978e-02,\n",
       "        7.73874842e-02,  7.78059930e-02,  7.99686830e-02,  8.25181219e-02,\n",
       "        8.37049888e-02,  8.55728723e-02,  9.07486387e-02,  9.30688767e-02,\n",
       "        9.72017905e-02,  9.78900513e-02,  1.08146963e-01,  1.14180463e-01,\n",
       "        1.15357087e-01,  1.15672607e-01,  1.19597932e-01,  1.22917999e-01,\n",
       "        1.28383347e-01,  1.40442392e-01,  1.43177608e-01,  1.47003162e-01,\n",
       "        1.51270042e-01,  1.51350497e-01,  1.52218677e-01,  1.56431723e-01,\n",
       "        1.56688425e-01,  1.57172607e-01,  1.58556560e-01,  1.60819813e-01,\n",
       "        1.66657048e-01,  1.69885968e-01,  1.69894332e-01,  1.71806042e-01,\n",
       "        1.79725264e-01,  1.85161110e-01,  1.85260705e-01,  1.95052641e-01,\n",
       "        1.97558276e-01,  1.99398935e-01,  1.99882258e-01,  2.02930812e-01,\n",
       "        2.03484391e-01,  2.06948061e-01,  2.07800151e-01,  2.15464473e-01,\n",
       "        2.19843797e-01,  2.20761510e-01,  2.21290289e-01,  2.22445720e-01,\n",
       "        2.30254927e-01,  2.31248719e-01,  2.31537502e-01,  2.35373683e-01,\n",
       "        2.37489487e-01,  2.46417679e-01,  2.48240646e-01,  2.49033000e-01,\n",
       "        2.52392820e-01,  2.54662180e-01,  2.56969660e-01,  2.58408369e-01,\n",
       "        2.60130494e-01,  2.61904891e-01,  2.70565036e-01,  2.76862207e-01,\n",
       "        2.79865717e-01,  2.88635408e-01,  2.93803940e-01,  2.94438347e-01,\n",
       "        2.94624447e-01,  2.94990594e-01,  2.95466106e-01,  2.95607176e-01,\n",
       "        2.97669412e-01,  2.97735263e-01,  3.00129280e-01,  3.06802873e-01,\n",
       "        3.11876657e-01,  3.13730343e-01,  3.15600502e-01,  3.19157721e-01,\n",
       "        3.21756368e-01,  3.27747723e-01,  3.28747648e-01,  3.28765560e-01,\n",
       "        3.32096559e-01,  3.33233487e-01,  3.35304713e-01,  3.35517650e-01,\n",
       "        3.36594696e-01,  3.37116653e-01,  3.40794964e-01,  3.42360520e-01,\n",
       "        3.46069840e-01,  3.47620417e-01,  3.51814869e-01,  3.57590977e-01,\n",
       "        3.58348585e-01,  3.59121067e-01,  3.62291646e-01,  3.63033585e-01,\n",
       "        3.63391882e-01,  3.64549876e-01,  3.66881931e-01,  3.70185255e-01,\n",
       "        3.70715697e-01,  3.76601215e-01,  3.78435886e-01,  3.79105350e-01,\n",
       "        3.80046490e-01,  3.83181727e-01,  3.84013872e-01,  3.84046929e-01,\n",
       "        3.84574035e-01,  3.87456005e-01,  3.91499365e-01,  3.92606788e-01,\n",
       "        3.93075933e-01,  3.93608576e-01,  3.96372792e-01,  4.00274792e-01,\n",
       "        4.02137361e-01,  4.02835146e-01,  4.03006617e-01,  4.05683765e-01,\n",
       "        4.06491108e-01,  4.06773552e-01,  4.07657825e-01,  4.08519386e-01,\n",
       "        4.09200909e-01,  4.19193463e-01,  4.19451085e-01,  4.23902967e-01,\n",
       "        4.24213561e-01,  4.25669899e-01,  4.27263721e-01,  4.29636624e-01,\n",
       "        4.32231298e-01,  4.32280394e-01,  4.34614374e-01,  4.38066465e-01,\n",
       "        4.38211389e-01,  4.43241337e-01,  4.53923607e-01,  4.55583019e-01,\n",
       "        4.55973347e-01,  4.56415626e-01,  4.60677422e-01,  4.61130553e-01,\n",
       "        4.64028728e-01,  4.65153609e-01,  4.65674190e-01,  4.67683035e-01,\n",
       "        4.76113375e-01,  4.80815440e-01,  4.82063396e-01,  4.82454839e-01,\n",
       "        4.83909293e-01,  4.90046768e-01,  4.92410242e-01,  4.93322094e-01,\n",
       "        4.93762158e-01,  4.98281718e-01,  4.98329537e-01,  5.04899524e-01,\n",
       "        5.07653552e-01,  5.14291695e-01,  5.18656405e-01,  5.26309149e-01,\n",
       "        5.28755462e-01,  5.30996203e-01,  5.31080933e-01,  5.31615866e-01,\n",
       "        5.31867740e-01,  5.32849335e-01,  5.34344958e-01,  5.36420807e-01,\n",
       "        5.36421289e-01,  5.42797345e-01,  5.45489123e-01,  5.46843459e-01,\n",
       "        5.49411609e-01,  5.52661340e-01,  5.56494545e-01,  5.56834312e-01,\n",
       "        5.57285833e-01,  5.58417428e-01,  5.59422067e-01,  5.59762422e-01,\n",
       "        5.65165572e-01,  5.69646880e-01,  5.70469694e-01,  5.71178839e-01,\n",
       "        5.75094607e-01,  5.85590482e-01,  5.85790493e-01,  5.88358402e-01,\n",
       "        5.93595741e-01,  5.95449208e-01,  5.95660647e-01,  5.96968081e-01,\n",
       "        5.99237411e-01,  6.07025032e-01,  6.07392012e-01,  6.10100649e-01,\n",
       "        6.16904083e-01,  6.30329338e-01,  6.33171870e-01,  6.38651767e-01,\n",
       "        6.42824199e-01,  6.50223959e-01,  6.51810478e-01,  6.57466951e-01,\n",
       "        6.63004751e-01,  6.73028196e-01,  6.74162808e-01,  6.74718892e-01,\n",
       "        6.76942653e-01,  6.79871791e-01,  6.82069977e-01,  6.83601850e-01,\n",
       "        6.87414540e-01,  6.88525572e-01,  6.94931869e-01,  6.96928602e-01,\n",
       "        6.96979781e-01,  7.01701411e-01,  7.03889795e-01,  7.04493423e-01,\n",
       "        7.04624978e-01,  7.07042411e-01,  7.15610224e-01,  7.22323263e-01,\n",
       "        7.22815807e-01,  7.27170084e-01,  7.29056868e-01,  7.33320343e-01,\n",
       "        7.35500863e-01,  7.59479096e-01,  7.63405614e-01,  7.63465162e-01,\n",
       "        7.65164677e-01,  7.67389546e-01,  7.70229675e-01,  7.70729698e-01,\n",
       "        7.73481327e-01,  7.75158797e-01,  7.79839072e-01,  7.84793897e-01,\n",
       "        7.87427890e-01,  7.89117987e-01,  7.89291929e-01,  7.95831847e-01,\n",
       "        8.01508537e-01,  8.03539349e-01,  8.13985560e-01,  8.14120335e-01,\n",
       "        8.17181523e-01,  8.18009044e-01,  8.18815280e-01,  8.21565724e-01,\n",
       "        8.24462982e-01,  8.24609057e-01,  8.29029983e-01,  8.30047391e-01,\n",
       "        8.33694568e-01,  8.33696867e-01,  8.38763397e-01,  8.43675027e-01,\n",
       "        8.43802428e-01,  8.44484154e-01,  8.44963674e-01,  8.48507333e-01,\n",
       "        8.51279214e-01,  8.52364944e-01,  8.56448487e-01,  8.59670041e-01,\n",
       "        8.65327778e-01,  8.66167070e-01,  8.73521459e-01,  8.77852268e-01,\n",
       "        8.93774689e-01,  8.94566184e-01,  8.95540164e-01,  8.96192182e-01,\n",
       "        9.04932100e-01,  9.13509702e-01,  9.15726348e-01,  9.25077792e-01,\n",
       "        9.26564837e-01,  9.26649083e-01,  9.37006109e-01,  9.37265177e-01,\n",
       "        9.42627356e-01,  9.51236624e-01,  9.52395668e-01,  9.54248092e-01,\n",
       "        9.61397567e-01,  9.62245539e-01,  9.64343426e-01,  9.65742721e-01,\n",
       "        9.67858779e-01,  9.73193047e-01,  9.75366800e-01,  9.91538625e-01,\n",
       "        9.99108041e-01,  1.00691192e+00,  1.01238965e+00,  1.01256591e+00,\n",
       "        1.01296447e+00,  1.05581704e+00,  1.05747100e+00,  1.06397126e+00,\n",
       "        1.07358942e+00,  1.07718156e+00,  1.07760871e+00,  1.07822710e+00,\n",
       "        1.09120184e+00,  1.09645974e+00,  1.10358988e+00,  1.10675958e+00,\n",
       "        1.10954102e+00,  1.12330944e+00,  1.12914418e+00,  1.13468787e+00,\n",
       "        1.14820215e+00,  1.14887040e+00,  1.15245956e+00,  1.16065267e+00,\n",
       "        1.16261988e+00,  1.16772968e+00,  1.17045084e+00,  1.17535936e+00,\n",
       "        1.18070503e+00,  1.18829910e+00,  1.19886376e+00,  1.20940464e+00,\n",
       "        1.21139157e+00,  1.22413450e+00,  1.22492228e+00,  1.22812776e+00,\n",
       "        1.22826474e+00,  1.23444095e+00,  1.24386598e+00,  1.25373328e+00,\n",
       "        1.26137891e+00,  1.26255678e+00,  1.27848068e+00,  1.28448986e+00,\n",
       "        1.28488282e+00,  1.29367321e+00,  1.30874494e+00,  1.30942906e+00,\n",
       "        1.31043806e+00,  1.31337912e+00,  1.32165532e+00,  1.32447911e+00,\n",
       "        1.33861152e+00,  1.33946967e+00,  1.34208682e+00,  1.34855940e+00,\n",
       "        1.35496655e+00,  1.35806930e+00,  1.36104460e+00,  1.36827253e+00,\n",
       "        1.38219329e+00,  1.38705329e+00,  1.38839475e+00,  1.39326260e+00,\n",
       "        1.40408145e+00,  1.41810475e+00,  1.42240281e+00,  1.44020641e+00,\n",
       "        1.44433902e+00,  1.44580354e+00,  1.44652516e+00,  1.45375832e+00,\n",
       "        1.46348463e+00,  1.50105083e+00,  1.50384007e+00,  1.51014689e+00,\n",
       "        1.51485589e+00,  1.51976133e+00,  1.52335900e+00,  1.52381956e+00,\n",
       "        1.54212602e+00,  1.56937505e+00,  1.57827063e+00,  1.59361893e+00,\n",
       "        1.59535342e+00,  1.59621908e+00,  1.59883851e+00,  1.60428848e+00,\n",
       "        1.63633857e+00,  1.63708838e+00,  1.63989261e+00,  1.64704533e+00,\n",
       "        1.66171612e+00,  1.66251418e+00,  1.68367987e+00,  1.69038447e+00,\n",
       "        1.70435274e+00,  1.71798069e+00,  1.72255045e+00,  1.72938766e+00,\n",
       "        1.75410614e+00,  1.76587215e+00,  1.78004866e+00,  1.80532176e+00,\n",
       "        1.82642036e+00,  1.83732227e+00,  1.84299255e+00,  1.86701105e+00,\n",
       "        1.87913011e+00,  1.92831090e+00,  1.96867601e+00,  1.97998952e+00,\n",
       "        2.00210995e+00,  2.01943917e+00,  2.03822370e+00,  2.05597918e+00,\n",
       "        2.06386297e+00,  2.09330738e+00,  2.13995730e+00,  2.14872962e+00,\n",
       "        2.15656360e+00,  2.17694146e+00,  2.17758107e+00,  2.19694213e+00,\n",
       "        2.19922649e+00,  2.24127626e+00,  2.26596235e+00,  2.31428488e+00,\n",
       "        2.40475359e+00,  2.53962110e+00,  2.57290732e+00,  2.58208858e+00,\n",
       "        2.70373222e+00,  3.15827000e+00,  3.38029543e+00,  3.43377861e+00])"
      ]
     },
     "execution_count": 226,
     "metadata": {},
     "output_type": "execute_result"
    }
   ],
   "source": [
    "large_arr"
   ]
  },
  {
   "cell_type": "code",
   "execution_count": 227,
   "metadata": {},
   "outputs": [],
   "source": [
    "names = np.array(['Bob','Joe','Will','Bob','Will','Joe','Joe'])"
   ]
  },
  {
   "cell_type": "code",
   "execution_count": 228,
   "metadata": {},
   "outputs": [
    {
     "data": {
      "text/plain": [
       "array(['Bob', 'Joe', 'Will'], dtype='<U4')"
      ]
     },
     "execution_count": 228,
     "metadata": {},
     "output_type": "execute_result"
    }
   ],
   "source": [
    "np.unique(names)"
   ]
  },
  {
   "cell_type": "code",
   "execution_count": 229,
   "metadata": {},
   "outputs": [],
   "source": [
    "ints = np.array([3,3,3,2,2,1,1,4,4])"
   ]
  },
  {
   "cell_type": "code",
   "execution_count": 230,
   "metadata": {},
   "outputs": [
    {
     "data": {
      "text/plain": [
       "array([1, 2, 3, 4])"
      ]
     },
     "execution_count": 230,
     "metadata": {},
     "output_type": "execute_result"
    }
   ],
   "source": [
    "np.unique(ints)"
   ]
  },
  {
   "cell_type": "code",
   "execution_count": 231,
   "metadata": {},
   "outputs": [
    {
     "data": {
      "text/plain": [
       "['Bob', 'Joe', 'Will']"
      ]
     },
     "execution_count": 231,
     "metadata": {},
     "output_type": "execute_result"
    }
   ],
   "source": [
    "sorted(set(names))"
   ]
  },
  {
   "cell_type": "code",
   "execution_count": 232,
   "metadata": {},
   "outputs": [],
   "source": [
    "values = np.array(\n",
    "[6,0,0,3,2,5,6])"
   ]
  },
  {
   "cell_type": "code",
   "execution_count": 234,
   "metadata": {},
   "outputs": [
    {
     "data": {
      "text/plain": [
       "array([ True, False, False,  True,  True, False,  True])"
      ]
     },
     "execution_count": 234,
     "metadata": {},
     "output_type": "execute_result"
    }
   ],
   "source": [
    "np.in1d(values,[2,3,6])"
   ]
  },
  {
   "cell_type": "code",
   "execution_count": 235,
   "metadata": {},
   "outputs": [
    {
     "data": {
      "text/plain": [
       "array([2, 3, 6])"
      ]
     },
     "execution_count": 235,
     "metadata": {},
     "output_type": "execute_result"
    }
   ],
   "source": [
    "np.intersect1d(values,[2,3,6])"
   ]
  },
  {
   "cell_type": "code",
   "execution_count": 236,
   "metadata": {},
   "outputs": [
    {
     "data": {
      "text/plain": [
       "array([0, 1, 2, 3, 4, 5, 6])"
      ]
     },
     "execution_count": 236,
     "metadata": {},
     "output_type": "execute_result"
    }
   ],
   "source": [
    "np.union1d(values,[1,4,6])"
   ]
  },
  {
   "cell_type": "code",
   "execution_count": 238,
   "metadata": {},
   "outputs": [
    {
     "data": {
      "text/plain": [
       "array([0, 5])"
      ]
     },
     "execution_count": 238,
     "metadata": {},
     "output_type": "execute_result"
    }
   ],
   "source": [
    "np.setdiff1d(values,[2,3,6])"
   ]
  },
  {
   "cell_type": "code",
   "execution_count": 240,
   "metadata": {},
   "outputs": [
    {
     "data": {
      "text/plain": [
       "array([0, 5, 6])"
      ]
     },
     "execution_count": 240,
     "metadata": {},
     "output_type": "execute_result"
    }
   ],
   "source": [
    "np.setxor1d(values,[2,3])"
   ]
  },
  {
   "cell_type": "code",
   "execution_count": 241,
   "metadata": {},
   "outputs": [],
   "source": [
    "arr = np.arange(10)"
   ]
  },
  {
   "cell_type": "code",
   "execution_count": 242,
   "metadata": {},
   "outputs": [],
   "source": [
    "samples = np.random.normal(size=(4,4))"
   ]
  },
  {
   "cell_type": "code",
   "execution_count": 243,
   "metadata": {},
   "outputs": [
    {
     "data": {
      "text/plain": [
       "array([[-9.09473724e-01, -6.92411900e-01,  1.15436637e+00,\n",
       "        -1.48253511e-01],\n",
       "       [ 1.58836776e+00, -1.82717773e-02,  9.15840107e-01,\n",
       "        -3.92730669e-01],\n",
       "       [-2.58117868e-01, -1.61361031e+00, -1.25746835e+00,\n",
       "        -1.65029752e-01],\n",
       "       [-3.16362903e-01,  4.50918153e-04, -1.92827071e+00,\n",
       "         8.27670646e-01]])"
      ]
     },
     "execution_count": 243,
     "metadata": {},
     "output_type": "execute_result"
    }
   ],
   "source": [
    "samples"
   ]
  },
  {
   "cell_type": "code",
   "execution_count": 244,
   "metadata": {},
   "outputs": [],
   "source": [
    "from random import normalvariate"
   ]
  },
  {
   "cell_type": "code",
   "execution_count": 245,
   "metadata": {},
   "outputs": [],
   "source": [
    "N = 1000000"
   ]
  },
  {
   "cell_type": "code",
   "execution_count": 246,
   "metadata": {},
   "outputs": [
    {
     "name": "stdout",
     "output_type": "stream",
     "text": [
      "357 ms ± 33 ms per loop (mean ± std. dev. of 7 runs, 1 loop each)\n"
     ]
    }
   ],
   "source": [
    "%timeit samples = [normalvariate(0,1) for _ in range(N)]"
   ]
  },
  {
   "cell_type": "code",
   "execution_count": 247,
   "metadata": {},
   "outputs": [
    {
     "name": "stdout",
     "output_type": "stream",
     "text": [
      "16.4 ms ± 89.8 µs per loop (mean ± std. dev. of 7 runs, 100 loops each)\n"
     ]
    }
   ],
   "source": [
    "%timeit np.random.normal(size=N)"
   ]
  },
  {
   "cell_type": "code",
   "execution_count": 248,
   "metadata": {},
   "outputs": [],
   "source": [
    "np.random.seed(1234)"
   ]
  },
  {
   "cell_type": "code",
   "execution_count": 249,
   "metadata": {},
   "outputs": [],
   "source": [
    "rng = np.random.RandomState(1234)"
   ]
  },
  {
   "cell_type": "code",
   "execution_count": 250,
   "metadata": {},
   "outputs": [
    {
     "data": {
      "text/plain": [
       "array([ 0.47143516, -1.19097569,  1.43270697, -0.3126519 , -0.72058873,\n",
       "        0.88716294,  0.85958841, -0.6365235 ,  0.01569637, -2.24268495])"
      ]
     },
     "execution_count": 250,
     "metadata": {},
     "output_type": "execute_result"
    }
   ],
   "source": [
    "rng.randn(10)"
   ]
  },
  {
   "cell_type": "code",
   "execution_count": 251,
   "metadata": {},
   "outputs": [],
   "source": [
    "import random\n",
    "position = 0\n",
    "walk = [position]\n",
    "steps = 1000\n",
    "for i in range(steps):\n",
    "    step = 1 if random.randint(0,1) else -1\n",
    "    position += step\n",
    "    walk.append(position)\n",
    "    "
   ]
  },
  {
   "cell_type": "code",
   "execution_count": 252,
   "metadata": {},
   "outputs": [
    {
     "data": {
      "text/plain": [
       "[<matplotlib.lines.Line2D at 0x169588280>]"
      ]
     },
     "execution_count": 252,
     "metadata": {},
     "output_type": "execute_result"
    },
    {
     "data": {
      "image/png": "[encoded data removed]",
      "text/plain": [
       "<Figure size 432x288 with 1 Axes>"
      ]
     },
     "metadata": {
      "needs_background": "light"
     },
     "output_type": "display_data"
    }
   ],
   "source": [
    "plt.plot(walk[:100])"
   ]
  },
  {
   "cell_type": "code",
   "execution_count": 253,
   "metadata": {},
   "outputs": [],
   "source": [
    "nsteps = 1000\n"
   ]
  },
  {
   "cell_type": "code",
   "execution_count": 255,
   "metadata": {},
   "outputs": [],
   "source": [
    "draws = np.random.randint(0,2,size=nsteps)"
   ]
  },
  {
   "cell_type": "code",
   "execution_count": 256,
   "metadata": {},
   "outputs": [],
   "source": [
    "steps = np.where(draws > 0,1,-1)"
   ]
  },
  {
   "cell_type": "code",
   "execution_count": 257,
   "metadata": {},
   "outputs": [],
   "source": [
    "walks = steps.cumsum()"
   ]
  },
  {
   "cell_type": "code",
   "execution_count": null,
   "metadata": {},
   "outputs": [],
   "source": []
  },
  {
   "cell_type": "code",
   "execution_count": null,
   "metadata": {},
   "outputs": [],
   "source": []
  },
  {
   "cell_type": "code",
   "execution_count": null,
   "metadata": {},
   "outputs": [],
   "source": []
  },
  {
   "cell_type": "code",
   "execution_count": null,
   "metadata": {},
   "outputs": [],
   "source": []
  },
  {
   "cell_type": "code",
   "execution_count": null,
   "metadata": {},
   "outputs": [],
   "source": []
  },
  {
   "cell_type": "code",
   "execution_count": null,
   "metadata": {},
   "outputs": [],
   "source": []
  },
  {
   "cell_type": "code",
   "execution_count": null,
   "metadata": {},
   "outputs": [],
   "source": []
  },
  {
   "cell_type": "code",
   "execution_count": null,
   "metadata": {},
   "outputs": [],
   "source": []
  },
  {
   "cell_type": "code",
   "execution_count": null,
   "metadata": {},
   "outputs": [],
   "source": []
  },
  {
   "cell_type": "code",
   "execution_count": null,
   "metadata": {},
   "outputs": [],
   "source": []
  },
  {
   "cell_type": "code",
   "execution_count": null,
   "metadata": {},
   "outputs": [],
   "source": []
  },
  {
   "cell_type": "code",
   "execution_count": null,
   "metadata": {},
   "outputs": [],
   "source": []
  },
  {
   "cell_type": "code",
   "execution_count": null,
   "metadata": {},
   "outputs": [],
   "source": []
  },
  {
   "cell_type": "code",
   "execution_count": null,
   "metadata": {},
   "outputs": [],
   "source": []
  },
  {
   "cell_type": "code",
   "execution_count": null,
   "metadata": {},
   "outputs": [],
   "source": []
  },
  {
   "cell_type": "code",
   "execution_count": null,
   "metadata": {},
   "outputs": [],
   "source": []
  },
  {
   "cell_type": "code",
   "execution_count": null,
   "metadata": {},
   "outputs": [],
   "source": []
  },
  {
   "cell_type": "code",
   "execution_count": null,
   "metadata": {},
   "outputs": [],
   "source": []
  },
  {
   "cell_type": "code",
   "execution_count": null,
   "metadata": {},
   "outputs": [],
   "source": []
  },
  {
   "cell_type": "code",
   "execution_count": null,
   "metadata": {},
   "outputs": [],
   "source": []
  },
  {
   "cell_type": "code",
   "execution_count": null,
   "metadata": {},
   "outputs": [],
   "source": []
  },
  {
   "cell_type": "code",
   "execution_count": null,
   "metadata": {},
   "outputs": [],
   "source": []
  },
  {
   "cell_type": "code",
   "execution_count": null,
   "metadata": {},
   "outputs": [],
   "source": []
  },
  {
   "cell_type": "code",
   "execution_count": null,
   "metadata": {},
   "outputs": [],
   "source": []
  },
  {
   "cell_type": "code",
   "execution_count": null,
   "metadata": {},
   "outputs": [],
   "source": []
  }
 ],
 "metadata": {
  "kernelspec": {
   "display_name": "Python 3 (ipykernel)",
   "language": "python",
   "name": "python3"
  },
  "language_info": {
   "codemirror_mode": {
    "name": "ipython",
    "version": 3
   },
   "file_extension": ".py",
   "mimetype": "text/x-python",
   "name": "python",
   "nbconvert_exporter": "python",
   "pygments_lexer": "ipython3",
   "version": "3.10.5"
  }
 },
 "nbformat": 4,
 "nbformat_minor": 4
}
